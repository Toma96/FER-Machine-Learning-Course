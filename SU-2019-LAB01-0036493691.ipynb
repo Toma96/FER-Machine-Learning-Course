{
 "cells": [
  {
   "cell_type": "markdown",
   "metadata": {},
   "source": [
    "Sveučilište u Zagrebu  \n",
    "Fakultet elektrotehnike i računarstva  \n",
    "  \n",
    "## Strojno učenje 2019/2020  \n",
    "http://www.fer.unizg.hr/predmet/su"
   ]
  },
  {
   "cell_type": "markdown",
   "metadata": {},
   "source": [
    "------------------------------\n",
    "\n",
    "### Laboratorijska vježba 1: Regresija\n",
    "\n",
    "*Verzija: 1.2  \n",
    "Zadnji put ažurirano: 27. rujna 2019.*\n",
    "\n",
    "(c) 2015-2019 Jan Šnajder, Domagoj Alagić \n",
    "\n",
    "Objavljeno: **30. rujna 2019.**  \n",
    "Rok za predaju: **21. listopada 2019. u 07:00h**\n",
    "\n",
    "------------------------------"
   ]
  },
  {
   "cell_type": "markdown",
   "metadata": {},
   "source": [
    "### Upute\n",
    "\n",
    "Prva laboratorijska vježba sastoji se od deset zadataka. U nastavku slijedite upute navedene u ćelijama s tekstom. Rješavanje vježbe svodi se na **dopunjavanje ove bilježnice**: umetanja ćelije ili više njih **ispod** teksta zadatka, pisanja odgovarajućeg kôda te evaluiranja ćelija. \n",
    "\n",
    "Osigurajte da u potpunosti **razumijete** kôd koji ste napisali. Kod predaje vježbe, morate biti u stanju na zahtjev asistenta (ili demonstratora) preinačiti i ponovno evaluirati Vaš kôd. Nadalje, morate razumjeti teorijske osnove onoga što radite, u okvirima onoga što smo obradili na predavanju. Ispod nekih zadataka možete naći i pitanja koja služe kao smjernice za bolje razumijevanje gradiva (**nemojte pisati** odgovore na pitanja u bilježnicu). Stoga se nemojte ograničiti samo na to da riješite zadatak, nego slobodno eksperimentirajte. To upravo i jest svrha ovih vježbi.\n",
    "\n",
    "Vježbe trebate raditi **samostalno**. Možete se konzultirati s drugima o načelnom načinu rješavanja, ali u konačnici morate sami odraditi vježbu. U protivnome vježba nema smisla."
   ]
  },
  {
   "cell_type": "code",
   "execution_count": 1,
   "metadata": {},
   "outputs": [
    {
     "name": "stdout",
     "output_type": "stream",
     "text": [
      "Populating the interactive namespace from numpy and matplotlib\n"
     ]
    }
   ],
   "source": [
    "# Učitaj osnovne biblioteke...\n",
    "import numpy as np\n",
    "import sklearn\n",
    "import matplotlib.pyplot as plt\n",
    "%pylab inline"
   ]
  },
  {
   "cell_type": "markdown",
   "metadata": {},
   "source": [
    "## Zadatci"
   ]
  },
  {
   "cell_type": "markdown",
   "metadata": {},
   "source": [
    "### 1. Jednostavna regresija"
   ]
  },
  {
   "cell_type": "markdown",
   "metadata": {},
   "source": [
    "Zadan je skup primjera $\\mathcal{D}=\\{(x^{(i)},y^{(i)})\\}_{i=1}^4 = \\{(0,4),(1,1),(2,2),(4,5)\\}$. Primjere predstavite matricom $\\mathbf{X}$ dimenzija $N\\times n$ (u ovom slučaju $4\\times 1$) i vektorom oznaka $\\textbf{y}$, dimenzija $N\\times 1$ (u ovom slučaju $4\\times 1$), na sljedeći način:\n"
   ]
  },
  {
   "cell_type": "code",
   "execution_count": 2,
   "metadata": {},
   "outputs": [],
   "source": [
    "X = np.array([[0],[1],[2],[4]])\n",
    "y = np.array([4,1,2,5])"
   ]
  },
  {
   "cell_type": "markdown",
   "metadata": {},
   "source": [
    "### (a)\n",
    "\n",
    "Proučite funkciju [`PolynomialFeatures`](http://scikit-learn.org/stable/modules/generated/sklearn.preprocessing.PolynomialFeatures.html) iz biblioteke `sklearn` i upotrijebite je za generiranje matrice dizajna $\\mathbf{\\Phi}$ koja ne koristi preslikavanje u prostor više dimenzije (samo će svakom primjeru biti dodane *dummy* jedinice; $m=n+1$).\n"
   ]
  },
  {
   "cell_type": "code",
   "execution_count": 3,
   "metadata": {},
   "outputs": [],
   "source": [
    "from sklearn.preprocessing import PolynomialFeatures"
   ]
  },
  {
   "cell_type": "code",
   "execution_count": 4,
   "metadata": {},
   "outputs": [
    {
     "data": {
      "text/plain": [
       "array([[1., 0.],\n",
       "       [1., 1.],\n",
       "       [1., 2.],\n",
       "       [1., 4.]])"
      ]
     },
     "execution_count": 4,
     "metadata": {},
     "output_type": "execute_result"
    }
   ],
   "source": [
    "# Vaš kôd ovdje\n",
    "poly = PolynomialFeatures(1)\n",
    "features = poly.fit_transform(X)\n",
    "features"
   ]
  },
  {
   "cell_type": "markdown",
   "metadata": {},
   "source": [
    "### (b)"
   ]
  },
  {
   "cell_type": "markdown",
   "metadata": {},
   "source": [
    "Upoznajte se s modulom [`linalg`](http://docs.scipy.org/doc/numpy/reference/routines.linalg.html). Izračunajte težine $\\mathbf{w}$ modela linearne regresije kao $\\mathbf{w}=(\\mathbf{\\Phi}^\\intercal\\mathbf{\\Phi})^{-1}\\mathbf{\\Phi}^\\intercal\\mathbf{y}$. Zatim se uvjerite da isti rezultat možete dobiti izračunom pseudoinverza $\\mathbf{\\Phi}^+$ matrice dizajna, tj. $\\mathbf{w}=\\mathbf{\\Phi}^+\\mathbf{y}$, korištenjem funkcije [`pinv`](http://docs.scipy.org/doc/numpy/reference/generated/numpy.linalg.pinv.html)."
   ]
  },
  {
   "cell_type": "code",
   "execution_count": 5,
   "metadata": {},
   "outputs": [],
   "source": [
    "from numpy import linalg"
   ]
  },
  {
   "cell_type": "code",
   "execution_count": 6,
   "metadata": {},
   "outputs": [
    {
     "data": {
      "text/plain": [
       "(array([2.2       , 0.45714286]), array([2.2       , 0.45714286]))"
      ]
     },
     "execution_count": 6,
     "metadata": {},
     "output_type": "execute_result"
    }
   ],
   "source": [
    "# Vaš kôd ovdje\n",
    "w = linalg.inv(features.T.dot(features)).dot(features.T).dot(y)\n",
    "wp = linalg.pinv(features).dot(y)\n",
    "w, wp"
   ]
  },
  {
   "cell_type": "markdown",
   "metadata": {},
   "source": [
    "Radi jasnoće, u nastavku je vektor $\\mathbf{x}$ s dodanom *dummy* jedinicom $x_0=1$ označen kao $\\tilde{\\mathbf{x}}$."
   ]
  },
  {
   "cell_type": "markdown",
   "metadata": {},
   "source": [
    "### (c)"
   ]
  },
  {
   "cell_type": "markdown",
   "metadata": {},
   "source": [
    "Prikažite primjere iz $\\mathcal{D}$ i funkciju $h(\\tilde{\\mathbf{x}})=\\mathbf{w}^\\intercal\\tilde{\\mathbf{x}}$. Izračunajte pogrešku učenja prema izrazu $E(h|\\mathcal{D})=\\frac{1}{2}\\sum_{i=1}^N(\\tilde{\\mathbf{y}}^{(i)} - h(\\tilde{\\mathbf{x}}))^2$. Možete koristiti funkciju srednje kvadratne pogreške [`mean_squared_error`]( http://scikit-learn.org/stable/modules/generated/sklearn.metrics.mean_squared_error.html) iz modula [`sklearn.metrics`](http://scikit-learn.org/stable/modules/classes.html#module-sklearn.metrics).\n",
    "\n",
    "**Q:** Gore definirana funkcija pogreške $E(h|\\mathcal{D})$ i funkcija srednje kvadratne pogreške nisu posve identične. U čemu je razlika? Koja je \"realnija\"?"
   ]
  },
  {
   "cell_type": "code",
   "execution_count": 7,
   "metadata": {},
   "outputs": [
    {
     "data": {
      "text/plain": [
       "2.0428571428571427"
      ]
     },
     "execution_count": 7,
     "metadata": {},
     "output_type": "execute_result"
    },
    {
     "data": {
      "image/png": "[encoded data removed]",
      "text/plain": [
       "<Figure size 432x288 with 1 Axes>"
      ]
     },
     "metadata": {
      "needs_background": "light"
     },
     "output_type": "display_data"
    }
   ],
   "source": [
    "# Vaš kôd ovdje\n",
    "plt.scatter(X, y)\n",
    "plt.plot(X, features.dot(w))\n",
    "from sklearn.metrics import mean_squared_error\n",
    "mse = mean_squared_error(y, features.dot(w))\n",
    "mse\n"
   ]
  },
  {
   "cell_type": "markdown",
   "metadata": {},
   "source": [
    "### (d)"
   ]
  },
  {
   "cell_type": "markdown",
   "metadata": {},
   "source": [
    "Uvjerite se da za primjere iz $\\mathcal{D}$ težine $\\mathbf{w}$ ne možemo naći rješavanjem sustava $\\mathbf{w}=\\mathbf{\\Phi}^{-1}\\mathbf{y}$, već da nam doista treba pseudoinverz.\n",
    "\n",
    "**Q:** Zašto je to slučaj? Bi li se problem mogao riješiti preslikavanjem primjera u višu dimenziju? Ako da, bi li to uvijek funkcioniralo, neovisno o skupu primjera $\\mathcal{D}$? Pokažite na primjeru."
   ]
  },
  {
   "cell_type": "code",
   "execution_count": 8,
   "metadata": {},
   "outputs": [
    {
     "name": "stdout",
     "output_type": "stream",
     "text": [
      "[[1. 0.]\n",
      " [1. 1.]\n",
      " [1. 2.]\n",
      " [1. 4.]]\n",
      "[[ 1.  0.  0.  0.]\n",
      " [ 1.  1.  1.  1.]\n",
      " [ 1.  2.  4.  8.]\n",
      " [ 1.  4. 16. 64.]]\n"
     ]
    },
    {
     "data": {
      "text/plain": [
       "array([ 4.        , -5.91666667,  3.375     , -0.45833333])"
      ]
     },
     "execution_count": 8,
     "metadata": {},
     "output_type": "execute_result"
    }
   ],
   "source": [
    "# Vaš kôd ovdje\n",
    "print(features)\n",
    "poly3 = PolynomialFeatures(3)\n",
    "features_higher_dim = poly3.fit_transform(X)\n",
    "print(features_higher_dim)\n",
    "w_inv = linalg.inv(features_higher_dim).dot(y)\n",
    "w_inv"
   ]
  },
  {
   "cell_type": "markdown",
   "metadata": {},
   "source": [
    "### (e) "
   ]
  },
  {
   "cell_type": "markdown",
   "metadata": {},
   "source": [
    "Proučite klasu [`LinearRegression`](http://scikit-learn.org/stable/modules/generated/sklearn.linear_model.LinearRegression.html) iz modula [`sklearn.linear_model`](http://scikit-learn.org/stable/modules/classes.html#module-sklearn.linear_model). Uvjerite se da su težine koje izračunava ta funkcija (dostupne pomoću atributa `coef_` i `intercept_`) jednake onima koje ste izračunali gore. Izračunajte predikcije modela (metoda `predict`) i uvjerite se da je pogreška učenja identična onoj koju ste ranije izračunali."
   ]
  },
  {
   "cell_type": "code",
   "execution_count": 9,
   "metadata": {},
   "outputs": [],
   "source": [
    "from sklearn.linear_model import LinearRegression"
   ]
  },
  {
   "cell_type": "code",
   "execution_count": 10,
   "metadata": {},
   "outputs": [
    {
     "name": "stdout",
     "output_type": "stream",
     "text": [
      "[0.45714286]\n",
      "2.2\n",
      "[[0]\n",
      " [1]\n",
      " [2]\n",
      " [4]]\n",
      "[4 1 2 5]\n",
      "[2.2        2.65714286 3.11428571 4.02857143]\n",
      "2.042857142857143\n"
     ]
    }
   ],
   "source": [
    "# Vaš kôd ovdje\n",
    "reg = LinearRegression().fit(X, y)\n",
    "print(reg.coef_)\n",
    "print(reg.intercept_)\n",
    "print(X)\n",
    "print(y)\n",
    "prediction = reg.predict(X)\n",
    "print(prediction)\n",
    "mse_predict = mean_squared_error(y, prediction)\n",
    "print(mse_predict)"
   ]
  },
  {
   "cell_type": "markdown",
   "metadata": {},
   "source": [
    "### 2. Polinomijalna regresija i utjecaj šuma"
   ]
  },
  {
   "cell_type": "markdown",
   "metadata": {},
   "source": [
    "### (a)\n",
    "\n",
    "Razmotrimo sada regresiju na većem broju primjera. Definirajte funkciju `make_labels(X, f, noise=0)` koja uzima matricu neoznačenih primjera $\\mathbf{X}_{N\\times n}$ te generira vektor njihovih oznaka $\\mathbf{y}_{N\\times 1}$. Oznake se generiraju kao $y^{(i)} = f(x^{(i)})+\\mathcal{N}(0,\\sigma^2)$, gdje je $f:\\mathbb{R}^n\\to\\mathbb{R}$ stvarna funkcija koja je generirala podatke (koja nam je u stvarnosti nepoznata), a $\\sigma$ je standardna devijacija Gaussovog šuma, definirana parametrom `noise`. Za generiranje šuma možete koristiti funkciju [`numpy.random.normal`](https://docs.scipy.org/doc/numpy-1.15.0/reference/generated/numpy.random.normal.html). \n",
    "\n",
    "Generirajte skup za učenje od $N=50$ primjera uniformno distribuiranih u intervalu $[-5,5]$ pomoću funkcije $f(x) = 5 + x -2 x^2 -5 x^3$ uz šum  $\\sigma=200$:"
   ]
  },
  {
   "cell_type": "code",
   "execution_count": 13,
   "metadata": {},
   "outputs": [
    {
     "name": "stdout",
     "output_type": "stream",
     "text": [
      "[[-5.        ]\n",
      " [-4.79591837]\n",
      " [-4.59183673]\n",
      " [-4.3877551 ]\n",
      " [-4.18367347]\n",
      " [-3.97959184]\n",
      " [-3.7755102 ]\n",
      " [-3.57142857]\n",
      " [-3.36734694]\n",
      " [-3.16326531]\n",
      " [-2.95918367]\n",
      " [-2.75510204]\n",
      " [-2.55102041]\n",
      " [-2.34693878]\n",
      " [-2.14285714]\n",
      " [-1.93877551]\n",
      " [-1.73469388]\n",
      " [-1.53061224]\n",
      " [-1.32653061]\n",
      " [-1.12244898]\n",
      " [-0.91836735]\n",
      " [-0.71428571]\n",
      " [-0.51020408]\n",
      " [-0.30612245]\n",
      " [-0.10204082]\n",
      " [ 0.10204082]\n",
      " [ 0.30612245]\n",
      " [ 0.51020408]\n",
      " [ 0.71428571]\n",
      " [ 0.91836735]\n",
      " [ 1.12244898]\n",
      " [ 1.32653061]\n",
      " [ 1.53061224]\n",
      " [ 1.73469388]\n",
      " [ 1.93877551]\n",
      " [ 2.14285714]\n",
      " [ 2.34693878]\n",
      " [ 2.55102041]\n",
      " [ 2.75510204]\n",
      " [ 2.95918367]\n",
      " [ 3.16326531]\n",
      " [ 3.36734694]\n",
      " [ 3.57142857]\n",
      " [ 3.7755102 ]\n",
      " [ 3.97959184]\n",
      " [ 4.18367347]\n",
      " [ 4.3877551 ]\n",
      " [ 4.59183673]\n",
      " [ 4.79591837]\n",
      " [ 5.        ]]\n",
      "[[ 649.30331992]\n",
      " [ 477.05487857]\n",
      " [ 391.95501928]\n",
      " [ 692.35106184]\n",
      " [ 665.71006321]\n",
      " [ 366.46686435]\n",
      " [  14.50360635]\n",
      " [ 389.26221883]\n",
      " [ 310.76445063]\n",
      " [  74.96350973]\n",
      " [-153.35142519]\n",
      " [ 126.03642472]\n",
      " [-219.41071657]\n",
      " [ 469.16190018]\n",
      " [-311.96903134]\n",
      " [ 504.12123852]\n",
      " [  -5.57810724]\n",
      " [ 167.50234362]\n",
      " [-263.65633237]\n",
      " [ 217.04516926]\n",
      " [ -96.71549233]\n",
      " [ -58.81219388]\n",
      " [  66.00495299]\n",
      " [ 442.78582902]\n",
      " [ -60.31357918]\n",
      " [ -60.6902837 ]\n",
      " [  93.67373818]\n",
      " [ 295.65777021]\n",
      " [-108.58133861]\n",
      " [ 256.85868763]\n",
      " [ 145.69694227]\n",
      " [ 160.57657551]\n",
      " [ -76.74242503]\n",
      " [  50.00386296]\n",
      " [ 153.18120788]\n",
      " [ 214.94614223]\n",
      " [-143.49903837]\n",
      " [ -57.60064529]\n",
      " [ -63.49881077]\n",
      " [-357.34797782]\n",
      " [ -29.91710034]\n",
      " [ 277.0075908 ]\n",
      " [-277.8961141 ]\n",
      " [-661.3937791 ]\n",
      " [ -43.7575951 ]\n",
      " [-737.0101526 ]\n",
      " [-276.03260826]\n",
      " [-637.70232325]\n",
      " [-289.38487346]\n",
      " [-671.22010468]]\n"
     ]
    }
   ],
   "source": [
    "from numpy.random import normal\n",
    "\n",
    "def make_labels(X, f, noise=0) :\n",
    "    # Vaš kôd ovdje\n",
    "    return f(X) + normal(scale=noise, size=X.shape)\n",
    "\n",
    "def fun(x):\n",
    "    return 5 + x - 2*x**2 - 5*x**3\n",
    "\n",
    "training_set = make_instances(-5, 5, 50)\n",
    "training_labels = make_labels(training_set, fun, noise=200)\n",
    "print(training_set)\n",
    "print(training_labels)"
   ]
  },
  {
   "cell_type": "code",
   "execution_count": 14,
   "metadata": {},
   "outputs": [],
   "source": [
    "def make_instances(x1, x2, N) :\n",
    "    return np.array([np.array([x]) for x in np.linspace(x1,x2,N)])"
   ]
  },
  {
   "cell_type": "markdown",
   "metadata": {},
   "source": [
    "Prikažite taj skup funkcijom [`scatter`](http://matplotlib.org/api/pyplot_api.html#matplotlib.pyplot.scatter)."
   ]
  },
  {
   "cell_type": "code",
   "execution_count": 15,
   "metadata": {},
   "outputs": [
    {
     "data": {
      "text/plain": [
       "<matplotlib.collections.PathCollection at 0x1d52e8023c8>"
      ]
     },
     "execution_count": 15,
     "metadata": {},
     "output_type": "execute_result"
    },
    {
     "data": {
      "image/png": "[encoded data removed]",
      "text/plain": [
       "<Figure size 432x288 with 1 Axes>"
      ]
     },
     "metadata": {
      "needs_background": "light"
     },
     "output_type": "display_data"
    }
   ],
   "source": [
    "# Vaš kôd ovdje\n",
    "plt.scatter(training_set, training_labels)"
   ]
  },
  {
   "cell_type": "markdown",
   "metadata": {},
   "source": [
    "### (b)"
   ]
  },
  {
   "cell_type": "markdown",
   "metadata": {},
   "source": [
    "Trenirajte model polinomijalne regresije stupnja $d=3$. Na istom grafikonu prikažite naučeni model $h(\\mathbf{x})=\\mathbf{w}^\\intercal\\tilde{\\mathbf{x}}$ i primjere za učenje. Izračunajte pogrešku učenja modela."
   ]
  },
  {
   "cell_type": "code",
   "execution_count": 16,
   "metadata": {},
   "outputs": [
    {
     "name": "stdout",
     "output_type": "stream",
     "text": [
      "46667.511492243495\n"
     ]
    },
    {
     "data": {
      "text/plain": [
       "[<matplotlib.lines.Line2D at 0x1d52e832e80>]"
      ]
     },
     "execution_count": 16,
     "metadata": {},
     "output_type": "execute_result"
    },
    {
     "data": {
      "image/png": "[encoded data removed]",
      "text/plain": [
       "<Figure size 432x288 with 1 Axes>"
      ]
     },
     "metadata": {
      "needs_background": "light"
     },
     "output_type": "display_data"
    }
   ],
   "source": [
    "# Vaš kôd ovdje\n",
    "poly = PolynomialFeatures(3)\n",
    "features = poly.fit_transform(training_set)\n",
    "\n",
    "model = LinearRegression()\n",
    "model.fit(features, training_labels)\n",
    "h = model.predict(features)\n",
    "mse = mean_squared_error(training_labels, h)\n",
    "print(mse)\n",
    "plt.scatter(training_set, training_labels)\n",
    "plt.plot(training_set, h)"
   ]
  },
  {
   "cell_type": "markdown",
   "metadata": {},
   "source": [
    "### 3. Odabir modela"
   ]
  },
  {
   "cell_type": "markdown",
   "metadata": {},
   "source": [
    "### (a)\n",
    "\n",
    "Na skupu podataka iz zadatka 2 trenirajte pet modela linearne regresije $\\mathcal{H}_d$ različite složenosti, gdje je $d$ stupanj polinoma, $d\\in\\{1,3,5,10,20\\}$. Prikažite na istome grafikonu skup za učenje i funkcije $h_d(\\mathbf{x})$ za svih pet modela (preporučujemo koristiti `plot` unutar `for` petlje). Izračunajte pogrešku učenja svakog od modela.\n",
    "\n",
    "**Q:** Koji model ima najmanju pogrešku učenja i zašto?"
   ]
  },
  {
   "cell_type": "code",
   "execution_count": 17,
   "metadata": {},
   "outputs": [
    {
     "name": "stdout",
     "output_type": "stream",
     "text": [
      "62081.5974029172 46667.511492243495 45465.41126498178 44819.78543709208 35117.83016308072\n"
     ]
    },
    {
     "data": {
      "text/plain": [
       "<matplotlib.legend.Legend at 0x1d52f8a3278>"
      ]
     },
     "execution_count": 17,
     "metadata": {},
     "output_type": "execute_result"
    },
    {
     "data": {
      "image/png": "[encoded data removed]",
      "text/plain": [
       "<Figure size 432x288 with 1 Axes>"
      ]
     },
     "metadata": {
      "needs_background": "light"
     },
     "output_type": "display_data"
    }
   ],
   "source": [
    "# Vaš kôd ovdje\n",
    "poly1 = PolynomialFeatures(1)\n",
    "feat1 = poly1.fit_transform(training_set)\n",
    "model1 = LinearRegression()\n",
    "model1.fit(feat1, training_labels)\n",
    "h1 = model1.predict(feat1)\n",
    "mse1 = mean_squared_error(training_labels, h1)\n",
    "\n",
    "poly3 = PolynomialFeatures(3)\n",
    "feat3 = poly3.fit_transform(training_set)\n",
    "model3 = LinearRegression()\n",
    "model3.fit(feat3, training_labels)\n",
    "h3 = model3.predict(feat3)\n",
    "mse3 = mean_squared_error(training_labels, h3)\n",
    "\n",
    "poly5 = PolynomialFeatures(5)\n",
    "feat5 = poly5.fit_transform(training_set)\n",
    "model5 = LinearRegression()\n",
    "model5.fit(feat5, training_labels)\n",
    "h5 = model5.predict(feat5)\n",
    "mse5 = mean_squared_error(training_labels, h5)\n",
    "\n",
    "poly10 = PolynomialFeatures(10)\n",
    "feat10 = poly10.fit_transform(training_set)\n",
    "model10 = LinearRegression()\n",
    "model10.fit(feat10, training_labels)\n",
    "h10 = model10.predict(feat10)\n",
    "mse10 = mean_squared_error(training_labels, h10)\n",
    "\n",
    "poly20 = PolynomialFeatures(20)\n",
    "feat20 = poly20.fit_transform(training_set)\n",
    "model20 = LinearRegression()\n",
    "model20.fit(feat20, training_labels)\n",
    "h20 = model20.predict(feat20)\n",
    "mse20 = mean_squared_error(training_labels, h20)\n",
    "\n",
    "print(mse1, mse3, mse5, mse10, mse20)\n",
    "\n",
    "hypotheses = (h1, h3, h5, h10, h20)\n",
    "plt.scatter(training_set, training_labels)\n",
    "for i, h in enumerate(hypotheses):\n",
    "    plt.plot(training_set, h, label='{0}. hypotheses'.format(i+1))\n",
    "plt.legend(loc='lower left', fontsize=\"small\")"
   ]
  },
  {
   "cell_type": "markdown",
   "metadata": {},
   "source": [
    "### (b)"
   ]
  },
  {
   "cell_type": "markdown",
   "metadata": {},
   "source": [
    "Razdvojite skup primjera iz zadatka 2 pomoću funkcije [`model_selection.train_test_split`](https://scikit-learn.org/stable/modules/generated/sklearn.model_selection.train_test_split.html) na skup za učenja i skup za ispitivanje u omjeru 1:1. Prikažite na jednom grafikonu pogrešku učenja i ispitnu pogrešku za modele polinomijalne regresije $\\mathcal{H}_d$, sa stupnjem polinoma $d$ u rasponu $d\\in [1,2,\\ldots,20]$. Budući da kvadratna pogreška brzo raste za veće stupnjeve polinoma, umjesto da iscrtate izravno iznose pogrešaka, iscrtajte njihove logaritme.\n",
    "\n",
    "**NB:** Podjela na skupa za učenje i skup za ispitivanje mora za svih pet modela biti identična.\n",
    "\n",
    "**Q:** Je li rezultat u skladu s očekivanjima? Koji biste model odabrali i zašto?\n",
    "\n",
    "**Q:** Pokrenite iscrtavanje više puta. U čemu je problem? Bi li problem bio jednako izražen kad bismo imali više primjera? Zašto?"
   ]
  },
  {
   "cell_type": "code",
   "execution_count": 18,
   "metadata": {},
   "outputs": [],
   "source": [
    "from sklearn.model_selection import train_test_split"
   ]
  },
  {
   "cell_type": "code",
   "execution_count": 19,
   "metadata": {},
   "outputs": [
    {
     "data": {
      "text/plain": [
       "<matplotlib.legend.Legend at 0x1d52f8e22b0>"
      ]
     },
     "execution_count": 19,
     "metadata": {},
     "output_type": "execute_result"
    },
    {
     "data": {
      "image/png": "[encoded data removed]",
      "text/plain": [
       "<Figure size 432x288 with 1 Axes>"
      ]
     },
     "metadata": {
      "needs_background": "light"
     },
     "output_type": "display_data"
    }
   ],
   "source": [
    "# Vaš kôd ovdje\n",
    "X_train, X_test = train_test_split(training_set, test_size=0.5)\n",
    "y_train, y_test = make_labels(X_train, fun, noise=200), make_labels(X_test, fun, noise=200)\n",
    "\n",
    "training_errors, test_errors = np.zeros(20), np.zeros(20)\n",
    "\n",
    "for i in range(20):\n",
    "    poly_i = PolynomialFeatures(i+1)\n",
    "    feat_train = poly_i.fit_transform(X_train)\n",
    "    feat_test = poly_i.fit_transform(X_test)\n",
    "    \n",
    "    model = LinearRegression()\n",
    "    model.fit(feat_train, y_train)\n",
    "    h_train = model.predict(feat_train)\n",
    "    training_errors[i] = np.log(mean_squared_error(y_train, h_train))\n",
    "    \n",
    "    h_test = model.predict(feat_test)\n",
    "    test_errors[i] = np.log(mean_squared_error(y_test, h_test))\n",
    "\n",
    "plt.plot(range(20), training_errors, label=\"train error\")\n",
    "plt.plot(range(20), test_errors, label=\"test error\")\n",
    "plt.legend(loc=\"best\", fontsize=\"small\")"
   ]
  },
  {
   "cell_type": "markdown",
   "metadata": {},
   "source": [
    "### (c)"
   ]
  },
  {
   "cell_type": "markdown",
   "metadata": {},
   "source": [
    "Točnost modela ovisi o (1) njegovoj složenosti (stupanj $d$ polinoma), (2) broju primjera $N$, i (3) količini šuma. Kako biste to analizirali, nacrtajte grafikone pogrešaka kao u 3b, ali za različit $N\\in$ (trećina, dvije trećine, sve) i količine šuma $\\sigma\\in\\{100,200,500\\}$ (ukupno 9 grafikona). Upotrijebite funkciju [`subplots`](http://matplotlib.org/examples/pylab_examples/subplots_demo.html) kako biste pregledno posložili grafikone u tablicu $3\\times 3$. Podatci se generiraju na isti način kao u zadatku 2.\n",
    "\n",
    "**NB:** Pobrinite se da svi grafikoni budu generirani nad usporedivim skupovima podataka, na sljedeći način. Generirajte najprije svih 1000 primjera, podijelite ih na skupove za učenje i skupove za ispitivanje (dva skupa od po 500 primjera). Zatim i od skupa za učenje i od skupa za ispitivanje načinite tri različite verzije, svaka s drugačijom količinom šuma (ukupno 2x3=6 verzija podataka). Kako bi simulirali veličinu skupa podataka, od tih dobivenih 6 skupova podataka uzorkujte trećinu, dvije trećine i sve podatke. Time ste dobili 18 skupova podataka -- skup za učenje i za testiranje za svaki od devet grafova."
   ]
  },
  {
   "cell_type": "code",
   "execution_count": 20,
   "metadata": {},
   "outputs": [
    {
     "data": {
      "image/png": "[encoded data removed]",
      "text/plain": [
       "<Figure size 432x288 with 9 Axes>"
      ]
     },
     "metadata": {
      "needs_background": "light"
     },
     "output_type": "display_data"
    }
   ],
   "source": [
    "# Vaš kôd ovdje\n",
    "X = make_instances(-5, 5, 1000)\n",
    "X_train, X_test = train_test_split(X, test_size=0.5)\n",
    "\n",
    "y_train_100 = make_labels(X_train, fun, noise=100)\n",
    "y_train_200 = make_labels(X_train, fun, noise=200)\n",
    "y_train_500 = make_labels(X_train, fun, noise=500)\n",
    "y_test_100 = make_labels(X_test, fun, noise=100)\n",
    "y_test_200 = make_labels(X_test, fun, noise=200)\n",
    "y_test_500 = make_labels(X_test, fun, noise=500)\n",
    "\n",
    "training_dataset = [y_train_100, y_train_200, y_train_500]\n",
    "testing_dataset = [y_test_100, y_test_200, y_test_500]\n",
    "\n",
    "X_train_third, X_train_two_thirds = train_test_split(X_train, test_size=2/3)\n",
    "X_test_third, X_test_two_thirds = train_test_split(X_test, test_size=2/3)\n",
    "\n",
    "for y_tr in [y_train_100, y_train_200, y_train_500]:\n",
    "    y_tr_third, y_tr_two_thirds = train_test_split(y_tr, test_size=2/3)\n",
    "    training_dataset.extend([y_tr_third, y_tr_two_thirds])\n",
    "\n",
    "for y_tst in [y_test_100, y_test_200, y_test_500]:\n",
    "    y_tst_third, y_tst_two_thirds = train_test_split(y_tst, test_size=2/3)\n",
    "    testing_dataset.extend([y_tst_third, y_tst_two_thirds])\n",
    "\n",
    "fig, subplot = plt.subplots(3, 3, sharex=True, sharey=True)\n",
    "training_errors = np.zeros(20)\n",
    "testing_errors = np.zeros(20)\n",
    "\n",
    "def find_X(index):\n",
    "    if index < 3:\n",
    "        return X_train, X_test\n",
    "    elif index % 2 == 1:\n",
    "        return X_train_third, X_test_third\n",
    "    else:\n",
    "        return X_train_two_thirds, X_test_two_thirds\n",
    "    \n",
    "for index, (y_tr, y_tst) in enumerate(zip(training_dataset, testing_dataset)):\n",
    "    for i in range(20):\n",
    "        X_tr, X_tst = find_X(index)\n",
    "        poly = PolynomialFeatures(i+1)\n",
    "        feat_tr = poly.fit_transform(X_tr)\n",
    "        feat_tst = poly.fit_transform(X_tst)\n",
    "        \n",
    "        model = LinearRegression()\n",
    "        model.fit(feat_tr, y_tr)\n",
    "        h_tr = model.predict(feat_tr)\n",
    "        training_errors[i] = np.log(mean_squared_error(y_tr, h_tr))\n",
    "        \n",
    "        h_tst = model.predict(feat_tst)\n",
    "        testing_errors[i] = np.log(mean_squared_error(y_tst, h_tst))\n",
    "    \n",
    "    subplot[index//3, index%3].plot(range(20), training_errors, label=\"Train\")\n",
    "    subplot[index//3, index%3].plot(range(20), testing_errors, label=\"Test\")\n",
    "\n"
   ]
  },
  {
   "cell_type": "markdown",
   "metadata": {},
   "source": [
    "***Q:*** Jesu li rezultati očekivani? Obrazložite."
   ]
  },
  {
   "cell_type": "markdown",
   "metadata": {},
   "source": [
    "### 4. Regularizirana regresija"
   ]
  },
  {
   "cell_type": "markdown",
   "metadata": {},
   "source": [
    "### (a)\n",
    "\n",
    "U gornjim eksperimentima nismo koristili **regularizaciju**. Vratimo se najprije na primjer iz zadatka 1. Na primjerima iz tog zadatka izračunajte težine $\\mathbf{w}$ za polinomijalni regresijski model stupnja $d=3$ uz L2-regularizaciju (tzv. *ridge regression*), prema izrazu $\\mathbf{w}=(\\mathbf{\\Phi}^\\intercal\\mathbf{\\Phi}+\\lambda\\mathbf{I})^{-1}\\mathbf{\\Phi}^\\intercal\\mathbf{y}$. Napravite izračun težina za regularizacijske faktore $\\lambda=0$, $\\lambda=1$ i $\\lambda=10$ te usporedite dobivene težine.\n",
    "\n",
    "**Q:** Kojih je dimenzija matrica koju treba invertirati?\n",
    "\n",
    "**Q:** Po čemu se razlikuju dobivene težine i je li ta razlika očekivana? Obrazložite."
   ]
  },
  {
   "cell_type": "code",
   "execution_count": 21,
   "metadata": {},
   "outputs": [
    {
     "name": "stdout",
     "output_type": "stream",
     "text": [
      "(4, 4)\n",
      "(4, 4)\n",
      "[[0. 0. 0. 0.]\n",
      " [0. 1. 0. 0.]\n",
      " [0. 0. 1. 0.]\n",
      " [0. 0. 0. 1.]]\n",
      "[ 4.         -5.91666667  3.375      -0.45833333] [ 3.05696145 -0.69079365 -0.2831746   0.1445805 ] [ 2.49444184 -0.15897295 -0.13423067  0.0815601 ]\n"
     ]
    }
   ],
   "source": [
    "# Vaš kôd ovdje\n",
    "X = np.array([[0],[1],[2],[4]])\n",
    "y = np.array([4,1,2,5])\n",
    "lambda_0 = 0\n",
    "lambda_1 = 1\n",
    "lambda_10 = 10\n",
    "poly = PolynomialFeatures(3)\n",
    "features = poly.fit_transform(X)\n",
    "print(features.shape)\n",
    "print(features.T.dot(features).shape)\n",
    "\n",
    "eye_mat = np.eye(features.shape[0])\n",
    "eye_mat[0][0] = 0\n",
    "print(eye_mat)\n",
    "\n",
    "w_l_0 = linalg.inv(features.T.dot(features) + lambda_0 * eye_mat).dot(features.T).dot(y)\n",
    "w_l_1 = linalg.inv(features.T.dot(features) + lambda_1 * eye_mat).dot(features.T).dot(y)\n",
    "w_l_10 = linalg.inv(features.T.dot(features) + lambda_10 * eye_mat).dot(features.T).dot(y)\n",
    "print(w_l_0, w_l_1, w_l_10)"
   ]
  },
  {
   "cell_type": "markdown",
   "metadata": {},
   "source": [
    "### (b)"
   ]
  },
  {
   "cell_type": "markdown",
   "metadata": {},
   "source": [
    "Proučite klasu [`Ridge`](http://scikit-learn.org/stable/modules/generated/sklearn.linear_model.Ridge.html#sklearn.linear_model.Ridge) iz modula [`sklearn.linear_model`](http://scikit-learn.org/stable/modules/classes.html#module-sklearn.linear_model), koja implementira L2-regularizirani regresijski model. Parametar $\\alpha$ odgovara parametru $\\lambda$. Primijenite model na istim primjerima kao u prethodnom zadatku i ispišite težine $\\mathbf{w}$ (atributi `coef_` i `intercept_`).\n",
    "\n",
    "**Q:** Jesu li težine identične onima iz zadatka 4a? Ako nisu, objasnite zašto je to tako i kako biste to popravili."
   ]
  },
  {
   "cell_type": "code",
   "execution_count": 22,
   "metadata": {},
   "outputs": [],
   "source": [
    "from sklearn.linear_model import Ridge"
   ]
  },
  {
   "cell_type": "code",
   "execution_count": 23,
   "metadata": {},
   "outputs": [
    {
     "name": "stdout",
     "output_type": "stream",
     "text": [
      "4.000000000000025 [ 0.         -5.91666667  3.375      -0.45833333]\n",
      "3.0569614512471652 [ 0.         -0.69079365 -0.2831746   0.1445805 ]\n",
      "2.4944418431229733 [ 0.         -0.15897295 -0.13423067  0.0815601 ]\n"
     ]
    }
   ],
   "source": [
    "# Vaš kôd ovdje\n",
    "model_0 = Ridge(alpha=0.0)\n",
    "model_1 = Ridge(alpha=1.0)\n",
    "model_10 = Ridge(alpha=10.0)\n",
    "\n",
    "model_0.fit(features, y)\n",
    "print(model_0.intercept_, model_0.coef_)\n",
    "\n",
    "model_1.fit(features, y)\n",
    "print(model_1.intercept_, model_1.coef_)\n",
    "\n",
    "model_10.fit(features, y)\n",
    "print(model_10.intercept_, model_10.coef_)"
   ]
  },
  {
   "cell_type": "markdown",
   "metadata": {},
   "source": [
    "### 5. Regularizirana polinomijalna regresija"
   ]
  },
  {
   "cell_type": "markdown",
   "metadata": {},
   "source": [
    "### (a)\n",
    "\n",
    "Vratimo se na slučaj $N=50$ slučajno generiranih primjera iz zadatka 2. Trenirajte modele polinomijalne regresije $\\mathcal{H}_{\\lambda,d}$ za $\\lambda\\in\\{0,100\\}$ i $d\\in\\{2,10\\}$ (ukupno četiri modela). Skicirajte pripadne funkcije $h(\\mathbf{x})$ i primjere (na jednom grafikonu; preporučujemo koristiti `plot` unutar `for` petlje).\n",
    "\n",
    "**Q:** Jesu li rezultati očekivani? Obrazložite."
   ]
  },
  {
   "cell_type": "code",
   "execution_count": 24,
   "metadata": {},
   "outputs": [
    {
     "data": {
      "text/plain": [
       "<matplotlib.legend.Legend at 0x1d531559d68>"
      ]
     },
     "execution_count": 24,
     "metadata": {},
     "output_type": "execute_result"
    },
    {
     "data": {
      "image/png": "[encoded data removed]",
      "text/plain": [
       "<Figure size 432x288 with 1 Axes>"
      ]
     },
     "metadata": {
      "needs_background": "light"
     },
     "output_type": "display_data"
    }
   ],
   "source": [
    "# Vaš kôd ovdje\n",
    "training_set = make_instances(-5, 5, 50)\n",
    "training_labels = make_labels(training_set, fun, noise=200)\n",
    "\n",
    "for lam in (0, 100):\n",
    "    for d in (2, 10):\n",
    "        poly = PolynomialFeatures(d)\n",
    "        feat = poly.fit_transform(training_set)\n",
    "        \n",
    "        model = Ridge(alpha=lam)\n",
    "        model.fit(feat, training_labels)\n",
    "        h = model.predict(feat)\n",
    "        plt.plot(training_set, h, label=\"lambda={0}, d={1}\".format(lam, d))\n",
    "plt.scatter(training_set, training_labels)\n",
    "plt.legend(loc=\"best\", fontsize=\"small\")"
   ]
  },
  {
   "cell_type": "markdown",
   "metadata": {},
   "source": [
    "### (b)\n",
    "\n",
    "Kao u zadataku 3b, razdvojite primjere na skup za učenje i skup za ispitivanje u omjeru 1:1. Prikažite krivulje logaritama pogreške učenja i ispitne pogreške u ovisnosti za model $\\mathcal{H}_{d=10,\\lambda}$, podešavajući faktor regularizacije $\\lambda$ u rasponu $\\lambda\\in\\{0,1,\\dots,50\\}$.\n",
    "\n",
    "**Q:** Kojoj strani na grafikonu odgovara područje prenaučenosti, a kojoj podnaučenosti? Zašto?\n",
    "\n",
    "**Q:** Koju biste vrijednosti za $\\lambda$ izabrali na temelju ovih grafikona i zašto?\n"
   ]
  },
  {
   "cell_type": "code",
   "execution_count": 25,
   "metadata": {},
   "outputs": [
    {
     "data": {
      "text/plain": [
       "<matplotlib.legend.Legend at 0x1d531615c18>"
      ]
     },
     "execution_count": 25,
     "metadata": {},
     "output_type": "execute_result"
    },
    {
     "data": {
      "image/png": "[encoded data removed]",
      "text/plain": [
       "<Figure size 432x288 with 1 Axes>"
      ]
     },
     "metadata": {
      "needs_background": "light"
     },
     "output_type": "display_data"
    }
   ],
   "source": [
    "# Vaš kôd ovdje\n",
    "from sklearn.model_selection import train_test_split\n",
    "\n",
    "X = make_instances(-5, 5, 50)\n",
    "X_train, X_test = train_test_split(X, test_size=0.5)\n",
    "y_train, y_test = make_labels(X_train, fun, noise=200), make_labels(X_test, fun, noise=200)\n",
    "\n",
    "lambdas = range(51)\n",
    "training_errors = np.zeros(51)\n",
    "testing_errors = np.zeros(51)\n",
    "\n",
    "poly = PolynomialFeatures(10)\n",
    "feat_tr = poly.fit_transform(X_train)\n",
    "feat_tst = poly.fit_transform(X_test)\n",
    "\n",
    "for lam in lambdas:\n",
    "    model = Ridge(alpha=lam)\n",
    "    model.fit(feat_tr, y_train)\n",
    "    h_tr = model.predict(feat_tr)\n",
    "    training_errors[lam] = np.log(mean_squared_error(y_train, h_tr))\n",
    "    \n",
    "    h_tst = model.predict(feat_tst)\n",
    "    testing_errors[lam] = np.log(mean_squared_error(y_test, h_tst))\n",
    "\n",
    "plt.plot(lambdas, training_errors, label=\"Training error\")\n",
    "plt.plot(lambdas, testing_errors, label=\"Testing error\")\n",
    "plt.legend(loc=\"best\", fontsize=\"small\")"
   ]
  },
  {
   "cell_type": "markdown",
   "metadata": {},
   "source": [
    "### 6. L1-regularizacija i L2-regularizacija"
   ]
  },
  {
   "cell_type": "markdown",
   "metadata": {},
   "source": [
    "Svrha regularizacije jest potiskivanje težina modela $\\mathbf{w}$ prema nuli, kako bi model bio što jednostavniji. Složenost modela može se okarakterizirati normom pripadnog vektora težina $\\mathbf{w}$, i to tipično L2-normom ili L1-normom. Za jednom trenirani model možemo izračunati i broj ne-nul značajki, ili L0-normu, pomoću sljedeće funkcije koja prima vektor težina $\\mathbf{w}$:"
   ]
  },
  {
   "cell_type": "code",
   "execution_count": 26,
   "metadata": {},
   "outputs": [],
   "source": [
    "def nonzeroes(coef, tol=1e-6): \n",
    "    return len(coef) - len(coef[np.isclose(0, coef, atol=tol)])"
   ]
  },
  {
   "cell_type": "markdown",
   "metadata": {},
   "source": [
    "### (a)\n",
    "\n",
    "Za ovaj zadatak upotrijebite skup za učenje i skup za testiranje iz zadatka 3b. Trenirajte modele **L2-regularizirane** polinomijalne regresije stupnja $d=10$, mijenjajući hiperparametar $\\lambda$ u rasponu $\\{1,2,\\dots,100\\}$. Za svaki od treniranih modela izračunajte L{0,1,2}-norme vektora težina $\\mathbf{w}$ te ih prikažite kao funkciju od $\\lambda$. Pripazite što točno šaljete u funkciju za izračun normi.\n",
    "\n",
    "**Q:** Objasnite oblik obiju krivulja. Hoće li krivulja za $\\|\\mathbf{w}\\|_2$ doseći nulu? Zašto? Je li to problem? Zašto?\n",
    "\n",
    "**Q:** Za $\\lambda=100$, koliki je postotak težina modela jednak nuli, odnosno koliko je model rijedak?"
   ]
  },
  {
   "cell_type": "code",
   "execution_count": 27,
   "metadata": {},
   "outputs": [
    {
     "data": {
      "image/png": "[encoded data removed]",
      "text/plain": [
       "<Figure size 432x288 with 1 Axes>"
      ]
     },
     "metadata": {
      "needs_background": "light"
     },
     "output_type": "display_data"
    }
   ],
   "source": [
    "# Vaš kôd ovdje\n",
    "X = make_instances(-5, 5, 50)\n",
    "X_train, X_test = train_test_split(X, test_size=0.5)\n",
    "y_train, y_test = make_labels(X_train, fun, noise=200), make_labels(X_test, fun, noise=200)\n",
    "\n",
    "poly = PolynomialFeatures(10)\n",
    "feat_train = poly.fit_transform(X_train)\n",
    "feat_test = poly.fit_transform(X_test)\n",
    "\n",
    "L0_norm = np.zeros(100)\n",
    "L1_norm = np.zeros(100)\n",
    "L2_norm = np.zeros(100)\n",
    "\n",
    "for lam in range(1, 101):\n",
    "    model = Ridge(alpha=lam)\n",
    "    model.fit(feat_train, y_train)\n",
    "    \n",
    "    L0_norm[lam-1] = nonzeroes(model.coef_.flatten())\n",
    "    L1_norm[lam-1] = linalg.norm(model.coef_, 1)\n",
    "    L2_norm[lam-1] = linalg.norm(model.coef_, 2)\n",
    "\n",
    "plt.plot(range(1, 101), L0_norm, label=\"L0\")\n",
    "plt.plot(range(1, 101), L1_norm, label=\"L1\")\n",
    "plt.plot(range(1, 101), L2_norm, label=\"L2\")\n",
    "plt.legend(loc=\"best\", fontsize=\"small\")\n",
    "plt.show()"
   ]
  },
  {
   "cell_type": "markdown",
   "metadata": {},
   "source": [
    "### (b)"
   ]
  },
  {
   "cell_type": "markdown",
   "metadata": {},
   "source": [
    "Glavna prednost L1-regularizirane regresije (ili *LASSO regression*) nad L2-regulariziranom regresijom jest u tome što L1-regularizirana regresija rezultira **rijetkim modelima** (engl. *sparse models*), odnosno modelima kod kojih su mnoge težine pritegnute na nulu. Pokažite da je to doista tako, ponovivši gornji eksperiment s **L1-regulariziranom** regresijom, implementiranom u klasi  [`Lasso`](http://scikit-learn.org/stable/modules/generated/sklearn.linear_model.Lasso.html) u modulu [`sklearn.linear_model`](http://scikit-learn.org/stable/modules/classes.html#module-sklearn.linear_model). Zanemarite upozorenja."
   ]
  },
  {
   "cell_type": "code",
   "execution_count": 28,
   "metadata": {},
   "outputs": [
    {
     "name": "stderr",
     "output_type": "stream",
     "text": [
      "C:\\Users\\Toma\\Anaconda3\\lib\\site-packages\\sklearn\\linear_model\\coordinate_descent.py:492: ConvergenceWarning: Objective did not converge. You might want to increase the number of iterations. Fitting data with very small alpha may cause precision problems.\n",
      "  ConvergenceWarning)\n",
      "C:\\Users\\Toma\\Anaconda3\\lib\\site-packages\\sklearn\\linear_model\\coordinate_descent.py:492: ConvergenceWarning: Objective did not converge. You might want to increase the number of iterations. Fitting data with very small alpha may cause precision problems.\n",
      "  ConvergenceWarning)\n",
      "C:\\Users\\Toma\\Anaconda3\\lib\\site-packages\\sklearn\\linear_model\\coordinate_descent.py:492: ConvergenceWarning: Objective did not converge. You might want to increase the number of iterations. Fitting data with very small alpha may cause precision problems.\n",
      "  ConvergenceWarning)\n",
      "C:\\Users\\Toma\\Anaconda3\\lib\\site-packages\\sklearn\\linear_model\\coordinate_descent.py:492: ConvergenceWarning: Objective did not converge. You might want to increase the number of iterations. Fitting data with very small alpha may cause precision problems.\n",
      "  ConvergenceWarning)\n",
      "C:\\Users\\Toma\\Anaconda3\\lib\\site-packages\\sklearn\\linear_model\\coordinate_descent.py:492: ConvergenceWarning: Objective did not converge. You might want to increase the number of iterations. Fitting data with very small alpha may cause precision problems.\n",
      "  ConvergenceWarning)\n",
      "C:\\Users\\Toma\\Anaconda3\\lib\\site-packages\\sklearn\\linear_model\\coordinate_descent.py:492: ConvergenceWarning: Objective did not converge. You might want to increase the number of iterations. Fitting data with very small alpha may cause precision problems.\n",
      "  ConvergenceWarning)\n",
      "C:\\Users\\Toma\\Anaconda3\\lib\\site-packages\\sklearn\\linear_model\\coordinate_descent.py:492: ConvergenceWarning: Objective did not converge. You might want to increase the number of iterations. Fitting data with very small alpha may cause precision problems.\n",
      "  ConvergenceWarning)\n",
      "C:\\Users\\Toma\\Anaconda3\\lib\\site-packages\\sklearn\\linear_model\\coordinate_descent.py:492: ConvergenceWarning: Objective did not converge. You might want to increase the number of iterations. Fitting data with very small alpha may cause precision problems.\n",
      "  ConvergenceWarning)\n",
      "C:\\Users\\Toma\\Anaconda3\\lib\\site-packages\\sklearn\\linear_model\\coordinate_descent.py:492: ConvergenceWarning: Objective did not converge. You might want to increase the number of iterations. Fitting data with very small alpha may cause precision problems.\n",
      "  ConvergenceWarning)\n",
      "C:\\Users\\Toma\\Anaconda3\\lib\\site-packages\\sklearn\\linear_model\\coordinate_descent.py:492: ConvergenceWarning: Objective did not converge. You might want to increase the number of iterations. Fitting data with very small alpha may cause precision problems.\n",
      "  ConvergenceWarning)\n",
      "C:\\Users\\Toma\\Anaconda3\\lib\\site-packages\\sklearn\\linear_model\\coordinate_descent.py:492: ConvergenceWarning: Objective did not converge. You might want to increase the number of iterations. Fitting data with very small alpha may cause precision problems.\n",
      "  ConvergenceWarning)\n",
      "C:\\Users\\Toma\\Anaconda3\\lib\\site-packages\\sklearn\\linear_model\\coordinate_descent.py:492: ConvergenceWarning: Objective did not converge. You might want to increase the number of iterations. Fitting data with very small alpha may cause precision problems.\n",
      "  ConvergenceWarning)\n",
      "C:\\Users\\Toma\\Anaconda3\\lib\\site-packages\\sklearn\\linear_model\\coordinate_descent.py:492: ConvergenceWarning: Objective did not converge. You might want to increase the number of iterations. Fitting data with very small alpha may cause precision problems.\n",
      "  ConvergenceWarning)\n",
      "C:\\Users\\Toma\\Anaconda3\\lib\\site-packages\\sklearn\\linear_model\\coordinate_descent.py:492: ConvergenceWarning: Objective did not converge. You might want to increase the number of iterations. Fitting data with very small alpha may cause precision problems.\n",
      "  ConvergenceWarning)\n",
      "C:\\Users\\Toma\\Anaconda3\\lib\\site-packages\\sklearn\\linear_model\\coordinate_descent.py:492: ConvergenceWarning: Objective did not converge. You might want to increase the number of iterations. Fitting data with very small alpha may cause precision problems.\n",
      "  ConvergenceWarning)\n",
      "C:\\Users\\Toma\\Anaconda3\\lib\\site-packages\\sklearn\\linear_model\\coordinate_descent.py:492: ConvergenceWarning: Objective did not converge. You might want to increase the number of iterations. Fitting data with very small alpha may cause precision problems.\n",
      "  ConvergenceWarning)\n",
      "C:\\Users\\Toma\\Anaconda3\\lib\\site-packages\\sklearn\\linear_model\\coordinate_descent.py:492: ConvergenceWarning: Objective did not converge. You might want to increase the number of iterations. Fitting data with very small alpha may cause precision problems.\n",
      "  ConvergenceWarning)\n",
      "C:\\Users\\Toma\\Anaconda3\\lib\\site-packages\\sklearn\\linear_model\\coordinate_descent.py:492: ConvergenceWarning: Objective did not converge. You might want to increase the number of iterations. Fitting data with very small alpha may cause precision problems.\n",
      "  ConvergenceWarning)\n",
      "C:\\Users\\Toma\\Anaconda3\\lib\\site-packages\\sklearn\\linear_model\\coordinate_descent.py:492: ConvergenceWarning: Objective did not converge. You might want to increase the number of iterations. Fitting data with very small alpha may cause precision problems.\n",
      "  ConvergenceWarning)\n",
      "C:\\Users\\Toma\\Anaconda3\\lib\\site-packages\\sklearn\\linear_model\\coordinate_descent.py:492: ConvergenceWarning: Objective did not converge. You might want to increase the number of iterations. Fitting data with very small alpha may cause precision problems.\n",
      "  ConvergenceWarning)\n",
      "C:\\Users\\Toma\\Anaconda3\\lib\\site-packages\\sklearn\\linear_model\\coordinate_descent.py:492: ConvergenceWarning: Objective did not converge. You might want to increase the number of iterations. Fitting data with very small alpha may cause precision problems.\n",
      "  ConvergenceWarning)\n",
      "C:\\Users\\Toma\\Anaconda3\\lib\\site-packages\\sklearn\\linear_model\\coordinate_descent.py:492: ConvergenceWarning: Objective did not converge. You might want to increase the number of iterations. Fitting data with very small alpha may cause precision problems.\n",
      "  ConvergenceWarning)\n",
      "C:\\Users\\Toma\\Anaconda3\\lib\\site-packages\\sklearn\\linear_model\\coordinate_descent.py:492: ConvergenceWarning: Objective did not converge. You might want to increase the number of iterations. Fitting data with very small alpha may cause precision problems.\n",
      "  ConvergenceWarning)\n",
      "C:\\Users\\Toma\\Anaconda3\\lib\\site-packages\\sklearn\\linear_model\\coordinate_descent.py:492: ConvergenceWarning: Objective did not converge. You might want to increase the number of iterations. Fitting data with very small alpha may cause precision problems.\n",
      "  ConvergenceWarning)\n",
      "C:\\Users\\Toma\\Anaconda3\\lib\\site-packages\\sklearn\\linear_model\\coordinate_descent.py:492: ConvergenceWarning: Objective did not converge. You might want to increase the number of iterations. Fitting data with very small alpha may cause precision problems.\n",
      "  ConvergenceWarning)\n",
      "C:\\Users\\Toma\\Anaconda3\\lib\\site-packages\\sklearn\\linear_model\\coordinate_descent.py:492: ConvergenceWarning: Objective did not converge. You might want to increase the number of iterations. Fitting data with very small alpha may cause precision problems.\n",
      "  ConvergenceWarning)\n",
      "C:\\Users\\Toma\\Anaconda3\\lib\\site-packages\\sklearn\\linear_model\\coordinate_descent.py:492: ConvergenceWarning: Objective did not converge. You might want to increase the number of iterations. Fitting data with very small alpha may cause precision problems.\n",
      "  ConvergenceWarning)\n",
      "C:\\Users\\Toma\\Anaconda3\\lib\\site-packages\\sklearn\\linear_model\\coordinate_descent.py:492: ConvergenceWarning: Objective did not converge. You might want to increase the number of iterations. Fitting data with very small alpha may cause precision problems.\n",
      "  ConvergenceWarning)\n",
      "C:\\Users\\Toma\\Anaconda3\\lib\\site-packages\\sklearn\\linear_model\\coordinate_descent.py:492: ConvergenceWarning: Objective did not converge. You might want to increase the number of iterations. Fitting data with very small alpha may cause precision problems.\n",
      "  ConvergenceWarning)\n",
      "C:\\Users\\Toma\\Anaconda3\\lib\\site-packages\\sklearn\\linear_model\\coordinate_descent.py:492: ConvergenceWarning: Objective did not converge. You might want to increase the number of iterations. Fitting data with very small alpha may cause precision problems.\n",
      "  ConvergenceWarning)\n",
      "C:\\Users\\Toma\\Anaconda3\\lib\\site-packages\\sklearn\\linear_model\\coordinate_descent.py:492: ConvergenceWarning: Objective did not converge. You might want to increase the number of iterations. Fitting data with very small alpha may cause precision problems.\n",
      "  ConvergenceWarning)\n",
      "C:\\Users\\Toma\\Anaconda3\\lib\\site-packages\\sklearn\\linear_model\\coordinate_descent.py:492: ConvergenceWarning: Objective did not converge. You might want to increase the number of iterations. Fitting data with very small alpha may cause precision problems.\n",
      "  ConvergenceWarning)\n",
      "C:\\Users\\Toma\\Anaconda3\\lib\\site-packages\\sklearn\\linear_model\\coordinate_descent.py:492: ConvergenceWarning: Objective did not converge. You might want to increase the number of iterations. Fitting data with very small alpha may cause precision problems.\n",
      "  ConvergenceWarning)\n",
      "C:\\Users\\Toma\\Anaconda3\\lib\\site-packages\\sklearn\\linear_model\\coordinate_descent.py:492: ConvergenceWarning: Objective did not converge. You might want to increase the number of iterations. Fitting data with very small alpha may cause precision problems.\n",
      "  ConvergenceWarning)\n",
      "C:\\Users\\Toma\\Anaconda3\\lib\\site-packages\\sklearn\\linear_model\\coordinate_descent.py:492: ConvergenceWarning: Objective did not converge. You might want to increase the number of iterations. Fitting data with very small alpha may cause precision problems.\n",
      "  ConvergenceWarning)\n",
      "C:\\Users\\Toma\\Anaconda3\\lib\\site-packages\\sklearn\\linear_model\\coordinate_descent.py:492: ConvergenceWarning: Objective did not converge. You might want to increase the number of iterations. Fitting data with very small alpha may cause precision problems.\n",
      "  ConvergenceWarning)\n",
      "C:\\Users\\Toma\\Anaconda3\\lib\\site-packages\\sklearn\\linear_model\\coordinate_descent.py:492: ConvergenceWarning: Objective did not converge. You might want to increase the number of iterations. Fitting data with very small alpha may cause precision problems.\n",
      "  ConvergenceWarning)\n",
      "C:\\Users\\Toma\\Anaconda3\\lib\\site-packages\\sklearn\\linear_model\\coordinate_descent.py:492: ConvergenceWarning: Objective did not converge. You might want to increase the number of iterations. Fitting data with very small alpha may cause precision problems.\n",
      "  ConvergenceWarning)\n",
      "C:\\Users\\Toma\\Anaconda3\\lib\\site-packages\\sklearn\\linear_model\\coordinate_descent.py:492: ConvergenceWarning: Objective did not converge. You might want to increase the number of iterations. Fitting data with very small alpha may cause precision problems.\n",
      "  ConvergenceWarning)\n",
      "C:\\Users\\Toma\\Anaconda3\\lib\\site-packages\\sklearn\\linear_model\\coordinate_descent.py:492: ConvergenceWarning: Objective did not converge. You might want to increase the number of iterations. Fitting data with very small alpha may cause precision problems.\n",
      "  ConvergenceWarning)\n",
      "C:\\Users\\Toma\\Anaconda3\\lib\\site-packages\\sklearn\\linear_model\\coordinate_descent.py:492: ConvergenceWarning: Objective did not converge. You might want to increase the number of iterations. Fitting data with very small alpha may cause precision problems.\n",
      "  ConvergenceWarning)\n",
      "C:\\Users\\Toma\\Anaconda3\\lib\\site-packages\\sklearn\\linear_model\\coordinate_descent.py:492: ConvergenceWarning: Objective did not converge. You might want to increase the number of iterations. Fitting data with very small alpha may cause precision problems.\n",
      "  ConvergenceWarning)\n",
      "C:\\Users\\Toma\\Anaconda3\\lib\\site-packages\\sklearn\\linear_model\\coordinate_descent.py:492: ConvergenceWarning: Objective did not converge. You might want to increase the number of iterations. Fitting data with very small alpha may cause precision problems.\n",
      "  ConvergenceWarning)\n",
      "C:\\Users\\Toma\\Anaconda3\\lib\\site-packages\\sklearn\\linear_model\\coordinate_descent.py:492: ConvergenceWarning: Objective did not converge. You might want to increase the number of iterations. Fitting data with very small alpha may cause precision problems.\n",
      "  ConvergenceWarning)\n",
      "C:\\Users\\Toma\\Anaconda3\\lib\\site-packages\\sklearn\\linear_model\\coordinate_descent.py:492: ConvergenceWarning: Objective did not converge. You might want to increase the number of iterations. Fitting data with very small alpha may cause precision problems.\n",
      "  ConvergenceWarning)\n",
      "C:\\Users\\Toma\\Anaconda3\\lib\\site-packages\\sklearn\\linear_model\\coordinate_descent.py:492: ConvergenceWarning: Objective did not converge. You might want to increase the number of iterations. Fitting data with very small alpha may cause precision problems.\n",
      "  ConvergenceWarning)\n",
      "C:\\Users\\Toma\\Anaconda3\\lib\\site-packages\\sklearn\\linear_model\\coordinate_descent.py:492: ConvergenceWarning: Objective did not converge. You might want to increase the number of iterations. Fitting data with very small alpha may cause precision problems.\n",
      "  ConvergenceWarning)\n",
      "C:\\Users\\Toma\\Anaconda3\\lib\\site-packages\\sklearn\\linear_model\\coordinate_descent.py:492: ConvergenceWarning: Objective did not converge. You might want to increase the number of iterations. Fitting data with very small alpha may cause precision problems.\n",
      "  ConvergenceWarning)\n",
      "C:\\Users\\Toma\\Anaconda3\\lib\\site-packages\\sklearn\\linear_model\\coordinate_descent.py:492: ConvergenceWarning: Objective did not converge. You might want to increase the number of iterations. Fitting data with very small alpha may cause precision problems.\n",
      "  ConvergenceWarning)\n",
      "C:\\Users\\Toma\\Anaconda3\\lib\\site-packages\\sklearn\\linear_model\\coordinate_descent.py:492: ConvergenceWarning: Objective did not converge. You might want to increase the number of iterations. Fitting data with very small alpha may cause precision problems.\n",
      "  ConvergenceWarning)\n",
      "C:\\Users\\Toma\\Anaconda3\\lib\\site-packages\\sklearn\\linear_model\\coordinate_descent.py:492: ConvergenceWarning: Objective did not converge. You might want to increase the number of iterations. Fitting data with very small alpha may cause precision problems.\n",
      "  ConvergenceWarning)\n",
      "C:\\Users\\Toma\\Anaconda3\\lib\\site-packages\\sklearn\\linear_model\\coordinate_descent.py:492: ConvergenceWarning: Objective did not converge. You might want to increase the number of iterations. Fitting data with very small alpha may cause precision problems.\n",
      "  ConvergenceWarning)\n",
      "C:\\Users\\Toma\\Anaconda3\\lib\\site-packages\\sklearn\\linear_model\\coordinate_descent.py:492: ConvergenceWarning: Objective did not converge. You might want to increase the number of iterations. Fitting data with very small alpha may cause precision problems.\n",
      "  ConvergenceWarning)\n",
      "C:\\Users\\Toma\\Anaconda3\\lib\\site-packages\\sklearn\\linear_model\\coordinate_descent.py:492: ConvergenceWarning: Objective did not converge. You might want to increase the number of iterations. Fitting data with very small alpha may cause precision problems.\n",
      "  ConvergenceWarning)\n",
      "C:\\Users\\Toma\\Anaconda3\\lib\\site-packages\\sklearn\\linear_model\\coordinate_descent.py:492: ConvergenceWarning: Objective did not converge. You might want to increase the number of iterations. Fitting data with very small alpha may cause precision problems.\n",
      "  ConvergenceWarning)\n",
      "C:\\Users\\Toma\\Anaconda3\\lib\\site-packages\\sklearn\\linear_model\\coordinate_descent.py:492: ConvergenceWarning: Objective did not converge. You might want to increase the number of iterations. Fitting data with very small alpha may cause precision problems.\n",
      "  ConvergenceWarning)\n",
      "C:\\Users\\Toma\\Anaconda3\\lib\\site-packages\\sklearn\\linear_model\\coordinate_descent.py:492: ConvergenceWarning: Objective did not converge. You might want to increase the number of iterations. Fitting data with very small alpha may cause precision problems.\n",
      "  ConvergenceWarning)\n",
      "C:\\Users\\Toma\\Anaconda3\\lib\\site-packages\\sklearn\\linear_model\\coordinate_descent.py:492: ConvergenceWarning: Objective did not converge. You might want to increase the number of iterations. Fitting data with very small alpha may cause precision problems.\n",
      "  ConvergenceWarning)\n",
      "C:\\Users\\Toma\\Anaconda3\\lib\\site-packages\\sklearn\\linear_model\\coordinate_descent.py:492: ConvergenceWarning: Objective did not converge. You might want to increase the number of iterations. Fitting data with very small alpha may cause precision problems.\n",
      "  ConvergenceWarning)\n",
      "C:\\Users\\Toma\\Anaconda3\\lib\\site-packages\\sklearn\\linear_model\\coordinate_descent.py:492: ConvergenceWarning: Objective did not converge. You might want to increase the number of iterations. Fitting data with very small alpha may cause precision problems.\n",
      "  ConvergenceWarning)\n",
      "C:\\Users\\Toma\\Anaconda3\\lib\\site-packages\\sklearn\\linear_model\\coordinate_descent.py:492: ConvergenceWarning: Objective did not converge. You might want to increase the number of iterations. Fitting data with very small alpha may cause precision problems.\n",
      "  ConvergenceWarning)\n",
      "C:\\Users\\Toma\\Anaconda3\\lib\\site-packages\\sklearn\\linear_model\\coordinate_descent.py:492: ConvergenceWarning: Objective did not converge. You might want to increase the number of iterations. Fitting data with very small alpha may cause precision problems.\n",
      "  ConvergenceWarning)\n",
      "C:\\Users\\Toma\\Anaconda3\\lib\\site-packages\\sklearn\\linear_model\\coordinate_descent.py:492: ConvergenceWarning: Objective did not converge. You might want to increase the number of iterations. Fitting data with very small alpha may cause precision problems.\n",
      "  ConvergenceWarning)\n",
      "C:\\Users\\Toma\\Anaconda3\\lib\\site-packages\\sklearn\\linear_model\\coordinate_descent.py:492: ConvergenceWarning: Objective did not converge. You might want to increase the number of iterations. Fitting data with very small alpha may cause precision problems.\n",
      "  ConvergenceWarning)\n",
      "C:\\Users\\Toma\\Anaconda3\\lib\\site-packages\\sklearn\\linear_model\\coordinate_descent.py:492: ConvergenceWarning: Objective did not converge. You might want to increase the number of iterations. Fitting data with very small alpha may cause precision problems.\n",
      "  ConvergenceWarning)\n",
      "C:\\Users\\Toma\\Anaconda3\\lib\\site-packages\\sklearn\\linear_model\\coordinate_descent.py:492: ConvergenceWarning: Objective did not converge. You might want to increase the number of iterations. Fitting data with very small alpha may cause precision problems.\n",
      "  ConvergenceWarning)\n",
      "C:\\Users\\Toma\\Anaconda3\\lib\\site-packages\\sklearn\\linear_model\\coordinate_descent.py:492: ConvergenceWarning: Objective did not converge. You might want to increase the number of iterations. Fitting data with very small alpha may cause precision problems.\n",
      "  ConvergenceWarning)\n",
      "C:\\Users\\Toma\\Anaconda3\\lib\\site-packages\\sklearn\\linear_model\\coordinate_descent.py:492: ConvergenceWarning: Objective did not converge. You might want to increase the number of iterations. Fitting data with very small alpha may cause precision problems.\n",
      "  ConvergenceWarning)\n",
      "C:\\Users\\Toma\\Anaconda3\\lib\\site-packages\\sklearn\\linear_model\\coordinate_descent.py:492: ConvergenceWarning: Objective did not converge. You might want to increase the number of iterations. Fitting data with very small alpha may cause precision problems.\n",
      "  ConvergenceWarning)\n",
      "C:\\Users\\Toma\\Anaconda3\\lib\\site-packages\\sklearn\\linear_model\\coordinate_descent.py:492: ConvergenceWarning: Objective did not converge. You might want to increase the number of iterations. Fitting data with very small alpha may cause precision problems.\n",
      "  ConvergenceWarning)\n"
     ]
    },
    {
     "name": "stderr",
     "output_type": "stream",
     "text": [
      "C:\\Users\\Toma\\Anaconda3\\lib\\site-packages\\sklearn\\linear_model\\coordinate_descent.py:492: ConvergenceWarning: Objective did not converge. You might want to increase the number of iterations. Fitting data with very small alpha may cause precision problems.\n",
      "  ConvergenceWarning)\n",
      "C:\\Users\\Toma\\Anaconda3\\lib\\site-packages\\sklearn\\linear_model\\coordinate_descent.py:492: ConvergenceWarning: Objective did not converge. You might want to increase the number of iterations. Fitting data with very small alpha may cause precision problems.\n",
      "  ConvergenceWarning)\n",
      "C:\\Users\\Toma\\Anaconda3\\lib\\site-packages\\sklearn\\linear_model\\coordinate_descent.py:492: ConvergenceWarning: Objective did not converge. You might want to increase the number of iterations. Fitting data with very small alpha may cause precision problems.\n",
      "  ConvergenceWarning)\n",
      "C:\\Users\\Toma\\Anaconda3\\lib\\site-packages\\sklearn\\linear_model\\coordinate_descent.py:492: ConvergenceWarning: Objective did not converge. You might want to increase the number of iterations. Fitting data with very small alpha may cause precision problems.\n",
      "  ConvergenceWarning)\n",
      "C:\\Users\\Toma\\Anaconda3\\lib\\site-packages\\sklearn\\linear_model\\coordinate_descent.py:492: ConvergenceWarning: Objective did not converge. You might want to increase the number of iterations. Fitting data with very small alpha may cause precision problems.\n",
      "  ConvergenceWarning)\n",
      "C:\\Users\\Toma\\Anaconda3\\lib\\site-packages\\sklearn\\linear_model\\coordinate_descent.py:492: ConvergenceWarning: Objective did not converge. You might want to increase the number of iterations. Fitting data with very small alpha may cause precision problems.\n",
      "  ConvergenceWarning)\n",
      "C:\\Users\\Toma\\Anaconda3\\lib\\site-packages\\sklearn\\linear_model\\coordinate_descent.py:492: ConvergenceWarning: Objective did not converge. You might want to increase the number of iterations. Fitting data with very small alpha may cause precision problems.\n",
      "  ConvergenceWarning)\n",
      "C:\\Users\\Toma\\Anaconda3\\lib\\site-packages\\sklearn\\linear_model\\coordinate_descent.py:492: ConvergenceWarning: Objective did not converge. You might want to increase the number of iterations. Fitting data with very small alpha may cause precision problems.\n",
      "  ConvergenceWarning)\n",
      "C:\\Users\\Toma\\Anaconda3\\lib\\site-packages\\sklearn\\linear_model\\coordinate_descent.py:492: ConvergenceWarning: Objective did not converge. You might want to increase the number of iterations. Fitting data with very small alpha may cause precision problems.\n",
      "  ConvergenceWarning)\n",
      "C:\\Users\\Toma\\Anaconda3\\lib\\site-packages\\sklearn\\linear_model\\coordinate_descent.py:492: ConvergenceWarning: Objective did not converge. You might want to increase the number of iterations. Fitting data with very small alpha may cause precision problems.\n",
      "  ConvergenceWarning)\n",
      "C:\\Users\\Toma\\Anaconda3\\lib\\site-packages\\sklearn\\linear_model\\coordinate_descent.py:492: ConvergenceWarning: Objective did not converge. You might want to increase the number of iterations. Fitting data with very small alpha may cause precision problems.\n",
      "  ConvergenceWarning)\n",
      "C:\\Users\\Toma\\Anaconda3\\lib\\site-packages\\sklearn\\linear_model\\coordinate_descent.py:492: ConvergenceWarning: Objective did not converge. You might want to increase the number of iterations. Fitting data with very small alpha may cause precision problems.\n",
      "  ConvergenceWarning)\n",
      "C:\\Users\\Toma\\Anaconda3\\lib\\site-packages\\sklearn\\linear_model\\coordinate_descent.py:492: ConvergenceWarning: Objective did not converge. You might want to increase the number of iterations. Fitting data with very small alpha may cause precision problems.\n",
      "  ConvergenceWarning)\n",
      "C:\\Users\\Toma\\Anaconda3\\lib\\site-packages\\sklearn\\linear_model\\coordinate_descent.py:492: ConvergenceWarning: Objective did not converge. You might want to increase the number of iterations. Fitting data with very small alpha may cause precision problems.\n",
      "  ConvergenceWarning)\n",
      "C:\\Users\\Toma\\Anaconda3\\lib\\site-packages\\sklearn\\linear_model\\coordinate_descent.py:492: ConvergenceWarning: Objective did not converge. You might want to increase the number of iterations. Fitting data with very small alpha may cause precision problems.\n",
      "  ConvergenceWarning)\n",
      "C:\\Users\\Toma\\Anaconda3\\lib\\site-packages\\sklearn\\linear_model\\coordinate_descent.py:492: ConvergenceWarning: Objective did not converge. You might want to increase the number of iterations. Fitting data with very small alpha may cause precision problems.\n",
      "  ConvergenceWarning)\n",
      "C:\\Users\\Toma\\Anaconda3\\lib\\site-packages\\sklearn\\linear_model\\coordinate_descent.py:492: ConvergenceWarning: Objective did not converge. You might want to increase the number of iterations. Fitting data with very small alpha may cause precision problems.\n",
      "  ConvergenceWarning)\n",
      "C:\\Users\\Toma\\Anaconda3\\lib\\site-packages\\sklearn\\linear_model\\coordinate_descent.py:492: ConvergenceWarning: Objective did not converge. You might want to increase the number of iterations. Fitting data with very small alpha may cause precision problems.\n",
      "  ConvergenceWarning)\n",
      "C:\\Users\\Toma\\Anaconda3\\lib\\site-packages\\sklearn\\linear_model\\coordinate_descent.py:492: ConvergenceWarning: Objective did not converge. You might want to increase the number of iterations. Fitting data with very small alpha may cause precision problems.\n",
      "  ConvergenceWarning)\n",
      "C:\\Users\\Toma\\Anaconda3\\lib\\site-packages\\sklearn\\linear_model\\coordinate_descent.py:492: ConvergenceWarning: Objective did not converge. You might want to increase the number of iterations. Fitting data with very small alpha may cause precision problems.\n",
      "  ConvergenceWarning)\n",
      "C:\\Users\\Toma\\Anaconda3\\lib\\site-packages\\sklearn\\linear_model\\coordinate_descent.py:492: ConvergenceWarning: Objective did not converge. You might want to increase the number of iterations. Fitting data with very small alpha may cause precision problems.\n",
      "  ConvergenceWarning)\n",
      "C:\\Users\\Toma\\Anaconda3\\lib\\site-packages\\sklearn\\linear_model\\coordinate_descent.py:492: ConvergenceWarning: Objective did not converge. You might want to increase the number of iterations. Fitting data with very small alpha may cause precision problems.\n",
      "  ConvergenceWarning)\n",
      "C:\\Users\\Toma\\Anaconda3\\lib\\site-packages\\sklearn\\linear_model\\coordinate_descent.py:492: ConvergenceWarning: Objective did not converge. You might want to increase the number of iterations. Fitting data with very small alpha may cause precision problems.\n",
      "  ConvergenceWarning)\n",
      "C:\\Users\\Toma\\Anaconda3\\lib\\site-packages\\sklearn\\linear_model\\coordinate_descent.py:492: ConvergenceWarning: Objective did not converge. You might want to increase the number of iterations. Fitting data with very small alpha may cause precision problems.\n",
      "  ConvergenceWarning)\n",
      "C:\\Users\\Toma\\Anaconda3\\lib\\site-packages\\sklearn\\linear_model\\coordinate_descent.py:492: ConvergenceWarning: Objective did not converge. You might want to increase the number of iterations. Fitting data with very small alpha may cause precision problems.\n",
      "  ConvergenceWarning)\n",
      "C:\\Users\\Toma\\Anaconda3\\lib\\site-packages\\sklearn\\linear_model\\coordinate_descent.py:492: ConvergenceWarning: Objective did not converge. You might want to increase the number of iterations. Fitting data with very small alpha may cause precision problems.\n",
      "  ConvergenceWarning)\n",
      "C:\\Users\\Toma\\Anaconda3\\lib\\site-packages\\sklearn\\linear_model\\coordinate_descent.py:492: ConvergenceWarning: Objective did not converge. You might want to increase the number of iterations. Fitting data with very small alpha may cause precision problems.\n",
      "  ConvergenceWarning)\n",
      "C:\\Users\\Toma\\Anaconda3\\lib\\site-packages\\sklearn\\linear_model\\coordinate_descent.py:492: ConvergenceWarning: Objective did not converge. You might want to increase the number of iterations. Fitting data with very small alpha may cause precision problems.\n",
      "  ConvergenceWarning)\n",
      "C:\\Users\\Toma\\Anaconda3\\lib\\site-packages\\sklearn\\linear_model\\coordinate_descent.py:492: ConvergenceWarning: Objective did not converge. You might want to increase the number of iterations. Fitting data with very small alpha may cause precision problems.\n",
      "  ConvergenceWarning)\n",
      "C:\\Users\\Toma\\Anaconda3\\lib\\site-packages\\sklearn\\linear_model\\coordinate_descent.py:492: ConvergenceWarning: Objective did not converge. You might want to increase the number of iterations. Fitting data with very small alpha may cause precision problems.\n",
      "  ConvergenceWarning)\n"
     ]
    },
    {
     "data": {
      "image/png": "[encoded data removed]",
      "text/plain": [
       "<Figure size 432x288 with 1 Axes>"
      ]
     },
     "metadata": {
      "needs_background": "light"
     },
     "output_type": "display_data"
    }
   ],
   "source": [
    "# Vaš kôd ovdje\n",
    "from sklearn.linear_model import Lasso\n",
    "\n",
    "X = make_instances(-5, 5, 50)\n",
    "X_train, X_test = train_test_split(X, test_size=0.5)\n",
    "y_train, y_test = make_labels(X_train, fun, noise=200), make_labels(X_test, fun, noise=200)\n",
    "\n",
    "poly = PolynomialFeatures(10)\n",
    "feat_train = poly.fit_transform(X_train)\n",
    "feat_test = poly.fit_transform(X_test)\n",
    "\n",
    "L0_norm = np.zeros(100)\n",
    "L1_norm = np.zeros(100)\n",
    "L2_norm = np.zeros(100)\n",
    "\n",
    "for lam in range(1, 101):\n",
    "    model = Lasso(alpha=lam)\n",
    "    model.fit(feat_train, y_train)\n",
    "    \n",
    "    L0_norm[lam-1] = nonzeroes(model.coef_.flatten())\n",
    "    L1_norm[lam-1] = linalg.norm(model.coef_, 1)\n",
    "    L2_norm[lam-1] = linalg.norm(model.coef_, 2)\n",
    "\n",
    "plt.plot(range(1, 101), L0_norm, label=\"L0\")\n",
    "plt.plot(range(1, 101), L1_norm, label=\"L1\")\n",
    "plt.plot(range(1, 101), L2_norm, label=\"L2\")\n",
    "plt.legend(loc=\"best\", fontsize=\"small\")\n",
    "plt.show()"
   ]
  },
  {
   "cell_type": "markdown",
   "metadata": {},
   "source": [
    "### 7. Značajke različitih skala"
   ]
  },
  {
   "cell_type": "markdown",
   "metadata": {},
   "source": [
    "Često se u praksi možemo susreti sa podatcima u kojima sve značajke nisu jednakih magnituda. Primjer jednog takvog skupa je regresijski skup podataka `grades` u kojem se predviđa prosjek ocjena studenta na studiju (1--5) na temelju dvije značajke: bodova na prijamnom ispitu (1--3000) i prosjeka ocjena u srednjoj školi. Prosjek ocjena na studiju izračunat je kao težinska suma ove dvije značajke uz dodani šum.\n",
    "\n",
    "Koristite sljedeći kôd kako biste generirali ovaj skup podataka."
   ]
  },
  {
   "cell_type": "code",
   "execution_count": 29,
   "metadata": {},
   "outputs": [],
   "source": [
    "n_data_points = 500\n",
    "np.random.seed(69)\n",
    "\n",
    "# Generiraj podatke o bodovima na prijamnom ispitu koristeći normalnu razdiobu i ograniči ih na interval [1, 3000].\n",
    "exam_score = np.random.normal(loc=1500.0, scale = 500.0, size = n_data_points) \n",
    "exam_score = np.round(exam_score)\n",
    "exam_score[exam_score > 3000] = 3000\n",
    "exam_score[exam_score < 0] = 0\n",
    "\n",
    "# Generiraj podatke o ocjenama iz srednje škole koristeći normalnu razdiobu i ograniči ih na interval [1, 5].\n",
    "grade_in_highschool = np.random.normal(loc=3, scale = 2.0, size = n_data_points)\n",
    "grade_in_highschool[grade_in_highschool > 5] = 5\n",
    "grade_in_highschool[grade_in_highschool < 1] = 1\n",
    "\n",
    "# Matrica dizajna.\n",
    "grades_X = np.array([exam_score,grade_in_highschool]).T\n",
    "\n",
    "# Završno, generiraj izlazne vrijednosti.\n",
    "rand_noise = np.random.normal(loc=0.0, scale = 0.5, size = n_data_points)\n",
    "exam_influence = 0.9\n",
    "grades_y = ((exam_score / 3000.0) * (exam_influence) + (grade_in_highschool / 5.0) \\\n",
    "            * (1.0 - exam_influence)) * 5.0 + rand_noise\n",
    "grades_y[grades_y < 1] = 1\n",
    "grades_y[grades_y > 5] = 5"
   ]
  },
  {
   "cell_type": "markdown",
   "metadata": {},
   "source": [
    "**a)** Iscrtajte ovisnost ciljne vrijednosti (y-os) o prvoj i o drugoj značajki (x-os). Iscrtajte dva odvojena grafa."
   ]
  },
  {
   "cell_type": "code",
   "execution_count": 30,
   "metadata": {},
   "outputs": [
    {
     "data": {
      "text/plain": [
       "[<matplotlib.lines.Line2D at 0x1d5317808d0>]"
      ]
     },
     "execution_count": 30,
     "metadata": {},
     "output_type": "execute_result"
    },
    {
     "data": {
      "image/png": "[encoded data removed]",
      "text/plain": [
       "<Figure size 432x288 with 2 Axes>"
      ]
     },
     "metadata": {
      "needs_background": "light"
     },
     "output_type": "display_data"
    }
   ],
   "source": [
    "# Vaš kôd ovdje\n",
    "fig, subplot = plt.subplots(2, 1)\n",
    "\n",
    "exam_score = np.array([exam_score]).reshape(-1, 1)\n",
    "grade_in_highschool = np.array([grade_in_highschool]).reshape(-1, 1)\n",
    "\n",
    "subplot[0].scatter(exam_score, grades_y)\n",
    "subplot[1].scatter(grade_in_highschool, grades_y)\n",
    "\n",
    "# poly = PolynomialFeatures(1)\n",
    "# feat_ex = poly.fit_transform(exam_score)\n",
    "# feat_high = poly.fit_transform(grade_in_highschool)\n",
    "\n",
    "model1 = LinearRegression()\n",
    "model1.fit(exam_score, grades_y)\n",
    "h1 = model1.predict(exam_score)\n",
    "subplot[0].plot(exam_score, h1, c='red')\n",
    "\n",
    "model2 = LinearRegression()\n",
    "model2.fit(grade_in_highschool, grades_y)\n",
    "h2 = model2.predict(grade_in_highschool)\n",
    "subplot[1].plot(grade_in_highschool, h2, c='red')"
   ]
  },
  {
   "cell_type": "markdown",
   "metadata": {},
   "source": [
    "**b)** Naučite model L2-regularizirane regresije ($\\lambda = 0.01$), na podacima `grades_X` i `grades_y`:"
   ]
  },
  {
   "cell_type": "code",
   "execution_count": 31,
   "metadata": {},
   "outputs": [
    {
     "name": "stdout",
     "output_type": "stream",
     "text": [
      "0.15061179575776018 [0.00141497 0.09477276]\n"
     ]
    }
   ],
   "source": [
    "# Vaš kôd ovdje\n",
    "model = Ridge(alpha=0.01)\n",
    "model.fit(grades_X, grades_y)\n",
    "print(model.intercept_, model.coef_)"
   ]
  },
  {
   "cell_type": "markdown",
   "metadata": {},
   "source": [
    "Sada ponovite gornji eksperiment, ali prvo skalirajte podatke `grades_X` i `grades_y` i spremite ih u varijable `grades_X_fixed` i `grades_y_fixed`. Za tu svrhu, koristite [`StandardScaler`](http://scikit-learn.org/stable/modules/generated/sklearn.preprocessing.StandardScaler.html)."
   ]
  },
  {
   "cell_type": "code",
   "execution_count": 32,
   "metadata": {},
   "outputs": [],
   "source": [
    "from sklearn.preprocessing import StandardScaler"
   ]
  },
  {
   "cell_type": "code",
   "execution_count": 33,
   "metadata": {},
   "outputs": [
    {
     "name": "stdout",
     "output_type": "stream",
     "text": [
      "[8.62551331e-17] [[0.81630375 0.15167761]]\n"
     ]
    }
   ],
   "source": [
    "# Vaš kôd ovdje\n",
    "scaler = StandardScaler()\n",
    "grades_X_fixed = scaler.fit_transform(grades_X)\n",
    "grades_y_fixed = scaler.fit_transform(grades_y.reshape(-1, 1))\n",
    "model = Ridge(alpha=0.01)\n",
    "model.fit(grades_X_fixed, grades_y_fixed)\n",
    "print(model.intercept_, model.coef_)"
   ]
  },
  {
   "cell_type": "markdown",
   "metadata": {},
   "source": [
    "**Q:** Gledajući grafikone iz podzadatka (a), koja značajka bi trebala imati veću magnitudu, odnosno važnost pri predikciji prosjeka na studiju? Odgovaraju li težine Vašoj intuiciji? Objasnite.  "
   ]
  },
  {
   "cell_type": "markdown",
   "metadata": {},
   "source": [
    "### 8. Multikolinearnost i kondicija matrice"
   ]
  },
  {
   "cell_type": "markdown",
   "metadata": {},
   "source": [
    "**a)** Izradite skup podataka `grades_X_fixed_colinear` tako što ćete u skupu `grades_X_fixed` iz\n",
    "zadatka *7b* duplicirati zadnji stupac (ocjenu iz srednje škole). Time smo efektivno uveli savršenu multikolinearnost."
   ]
  },
  {
   "cell_type": "code",
   "execution_count": 34,
   "metadata": {},
   "outputs": [
    {
     "name": "stdout",
     "output_type": "stream",
     "text": [
      "[[ 0.95063817 -0.78607869 -0.78607869]\n",
      " [-0.50343434 -0.50193004 -0.50193004]\n",
      " [ 1.18596832 -0.52213172 -0.52213172]\n",
      " ...\n",
      " [-0.31593552  0.80074234  0.80074234]\n",
      " [ 0.81288393  1.24783236  1.24783236]\n",
      " [-0.01938126  1.21729714  1.21729714]]\n",
      "[[ 9.50638167e-01 -7.86078688e-01]\n",
      " [-5.03434341e-01 -5.01930040e-01]\n",
      " [ 1.18596832e+00 -5.22131716e-01]\n",
      " [-5.01521087e-01  1.00664465e+00]\n",
      " [-1.45432123e+00  1.07657545e+00]\n",
      " [ 4.55105562e-01  1.37463962e+00]\n",
      " [ 1.22805990e+00  3.17053750e-02]\n",
      " [ 1.08456590e+00  1.37463962e+00]\n",
      " [ 8.89414061e-01  1.10502124e+00]\n",
      " [ 7.34440544e-01 -1.64077221e-01]\n",
      " [-1.39916214e-01 -1.38407669e+00]\n",
      " [-4.24990955e-01  5.53692134e-01]\n",
      " [-7.29198230e-01 -9.54244554e-01]\n",
      " [ 1.20318760e+00  1.23292343e+00]\n",
      " [-1.19603204e+00 -8.08989112e-01]\n",
      " [-4.42535488e-02 -7.59295189e-01]\n",
      " [-4.02031916e-01  1.37463962e+00]\n",
      " [-1.78914056e+00 -1.38407669e+00]\n",
      " [-1.69347789e+00 -1.01581550e+00]\n",
      " [ 3.26917591e-01 -1.38407669e+00]\n",
      " [ 9.67857447e-01  8.85447784e-01]\n",
      " [-1.04488502e+00 -7.09927289e-02]\n",
      " [ 7.82271877e-01  1.37463962e+00]\n",
      " [-9.89400679e-01  1.00969382e+00]\n",
      " [-1.82166586e+00 -1.01297584e+00]\n",
      " [-1.06784406e+00 -1.38407669e+00]\n",
      " [ 2.35081433e-01  1.62240540e-01]\n",
      " [-1.93263456e+00  1.10990937e+00]\n",
      " [ 9.35006888e-02  1.17406584e-01]\n",
      " [ 3.63269404e-01  6.39013355e-01]\n",
      " [-8.43993428e-01 -8.30581090e-01]\n",
      " [ 1.59731778e+00 -1.38407669e+00]\n",
      " [ 4.11100736e-01  8.00674181e-01]\n",
      " [-5.49352420e-01  1.40041800e-02]\n",
      " [-1.03723201e+00  2.25225294e-01]\n",
      " [-2.11056711e+00 -3.05849919e-01]\n",
      " [-5.58918686e-01 -3.40338832e-02]\n",
      " [-1.87747546e-01 -3.52645220e-01]\n",
      " [ 1.39068643e+00  1.37463962e+00]\n",
      " [-1.07390908e-01 -1.13974323e+00]\n",
      " [-7.67788549e-02  1.37463962e+00]\n",
      " [-1.24577662e+00  1.52610507e-01]\n",
      " [-1.01651148e-01  1.37463962e+00]\n",
      " [-2.51210158e-02 -1.21412549e+00]\n",
      " [ 1.54724794e-01  1.37463962e+00]\n",
      " [ 8.14797183e-01 -2.28867675e-01]\n",
      " [-1.43136219e+00  5.57853155e-02]\n",
      " [-1.28021518e+00  9.31632660e-01]\n",
      " [ 9.64030940e-01  4.51271889e-01]\n",
      " [ 4.53192309e-01  5.35851860e-01]\n",
      " [ 1.43469125e+00 -9.00868895e-01]\n",
      " [-2.28658642e+00 -1.06094715e+00]\n",
      " [ 2.65693486e-01  8.70720890e-01]\n",
      " [-1.09080310e+00  7.49253348e-01]\n",
      " [-6.33535565e-01  1.20422378e+00]\n",
      " [ 1.09030566e+00  6.29668811e-01]\n",
      " [-6.08663272e-01 -1.38407669e+00]\n",
      " [ 1.84795396e+00  1.37463962e+00]\n",
      " [ 1.53226717e+00  1.29043591e+00]\n",
      " [-1.64182005e+00 -1.38407669e+00]\n",
      " [-5.26393380e-01  2.89564908e-01]\n",
      " [ 1.98729620e-01  6.92863548e-01]\n",
      " [ 1.72359250e+00 -1.38407669e+00]\n",
      " [-5.97183752e-01  1.07393501e+00]\n",
      " [ 2.00642874e-01 -1.38407669e+00]\n",
      " [-1.55381040e+00 -5.58785260e-01]\n",
      " [-1.94028757e+00 -1.38407669e+00]\n",
      " [ 7.78445370e-01  3.72741288e-01]\n",
      " [-5.66571700e-01 -1.38407669e+00]\n",
      " [-6.91258417e-02  1.22402697e+00]\n",
      " [-1.16957174e-01 -1.02196735e+00]\n",
      " [-7.67788549e-02 -1.38407669e+00]\n",
      " [ 1.51887440e+00 -1.38921330e-01]\n",
      " [-3.29328290e-01  1.37463962e+00]\n",
      " [ 8.32016462e-01  1.37463962e+00]\n",
      " [ 1.48443584e+00 -7.54122612e-01]\n",
      " [ 9.10459848e-01 -6.68478564e-01]\n",
      " [-1.04871153e+00  1.37463962e+00]\n",
      " [ 6.52170652e-01 -7.32530847e-01]\n",
      " [-7.25371723e-01 -1.29470722e+00]\n",
      " [ 1.44808402e+00  1.37463962e+00]\n",
      " [ 1.59923104e+00 -1.38407669e+00]\n",
      " [ 4.58932069e-01  1.17048033e+00]\n",
      " [ 1.89004554e+00 -1.38407669e+00]\n",
      " [ 1.78099010e+00 -1.38407669e+00]\n",
      " [ 1.45573704e+00  7.56270761e-01]\n",
      " [ 8.33929716e-01  1.25730302e+00]\n",
      " [-3.33154797e-01  9.37166935e-01]\n",
      " [-1.34335254e+00 -1.38407669e+00]\n",
      " [ 4.16840496e-01  9.19638532e-01]\n",
      " [ 2.54213966e-01  1.37463962e+00]\n",
      " [ 9.67857447e-01  1.10501783e-02]\n",
      " [-9.78246412e-02  4.57767532e-01]\n",
      " [ 9.35332141e-01 -7.64157764e-01]\n",
      " [ 2.10241665e+00 -8.29780971e-02]\n",
      " [ 9.44898407e-01 -9.83837497e-01]\n",
      " [ 1.26025995e-01  1.09972573e+00]\n",
      " [ 2.19775407e-01 -1.30778934e+00]\n",
      " [-1.35291881e+00 -8.78172397e-02]\n",
      " [-2.01140319e-01  1.37463962e+00]\n",
      " [-2.41318639e-01  5.60546064e-01]\n",
      " [ 5.85206787e-01 -8.89460823e-01]\n",
      " [ 3.30744098e-01  1.37463962e+00]\n",
      " [-5.28306634e-01  1.15040640e-01]\n",
      " [-3.08607757e-02  1.37463962e+00]\n",
      " [-2.08793333e-01 -1.38407669e+00]\n",
      " [ 9.94642993e-01 -9.97312084e-01]\n",
      " [-8.06053615e-02 -1.38407669e+00]\n",
      " [ 1.66428165e+00 -9.37537984e-01]\n",
      " [-4.15424689e-01  7.49350696e-01]\n",
      " [-1.15394046e+00 -4.25105649e-01]\n",
      " [-2.07995506e+00 -8.70249653e-01]\n",
      " [-7.59810283e-01 -1.38407669e+00]\n",
      " [ 1.02908155e+00 -1.38407669e+00]\n",
      " [ 1.87665276e+00  9.97502467e-01]\n",
      " [ 9.77423713e-01 -1.27805197e+00]\n",
      " [-4.46036742e-01  5.69848400e-01]\n",
      " [ 3.02045298e-01  7.43862648e-01]\n",
      " [-2.16413820e+00  5.82374718e-02]\n",
      " [ 1.83423594e-01  1.37463962e+00]\n",
      " [-1.81401285e+00 -5.32423914e-01]\n",
      " [-1.13098142e+00  1.37463962e+00]\n",
      " [ 4.05360977e-01  5.03996747e-01]\n",
      " [-2.08793333e-01  1.74568742e-01]\n",
      " [ 1.38303341e+00 -6.00397403e-01]\n",
      " [-1.26523441e-01  1.37463962e+00]\n",
      " [-1.56911643e+00  4.92213150e-01]\n",
      " [ 1.12857072e+00  2.25503155e-01]\n",
      " [ 8.32016462e-01  1.37463962e+00]\n",
      " [ 5.16329668e-01 -9.22742265e-02]\n",
      " [ 3.88141697e-01 -8.06717465e-01]\n",
      " [-3.75246370e-01 -6.34299581e-01]\n",
      " [ 2.21147209e+00  7.87268785e-01]\n",
      " [ 1.82882143e+00 -1.72932308e-01]\n",
      " [-2.89475224e-02  7.20340389e-01]\n",
      " [ 1.06734662e+00 -5.06477555e-02]\n",
      " [ 2.46235700e-02 -8.37504689e-01]\n",
      " [-1.11758865e+00 -1.38407669e+00]\n",
      " [ 3.22765832e-02  1.06976285e+00]\n",
      " [-7.90422336e-01 -1.38407669e+00]\n",
      " [ 7.03828491e-01  1.37463962e+00]\n",
      " [ 3.67095911e-01 -3.28160296e-01]\n",
      " [-1.06784406e+00 -1.38407669e+00]\n",
      " [-7.98075349e-01 -1.38407669e+00]\n",
      " [ 1.03099481e+00 -5.00627745e-01]\n",
      " [ 7.97577903e-01  1.39611530e-01]\n",
      " [-9.68354893e-01  5.33895908e-01]\n",
      " [-5.26393380e-01  1.37463962e+00]\n",
      " [ 3.15438072e-01  5.06181692e-01]\n",
      " [-8.84171747e-01  8.90275002e-01]\n",
      " [ 8.39344223e-02 -8.78840644e-01]\n",
      " [ 6.54083906e-01 -7.72228622e-01]\n",
      " [-2.03053573e-01 -3.54942747e-02]\n",
      " [ 1.09030566e+00 -6.76132533e-01]\n",
      " [ 1.70030821e-01 -9.07420105e-01]\n",
      " [ 7.66965850e-01 -1.07106148e+00]\n",
      " [-2.12945092e-02 -1.38407669e+00]\n",
      " [-4.95781328e-01 -1.38407669e+00]\n",
      " [ 1.43660451e+00  1.97962243e-02]\n",
      " [-8.78431987e-01  1.37463962e+00]\n",
      " [ 2.88493725e+00 -6.40407972e-01]\n",
      " [ 1.11900446e+00  2.24404277e-01]\n",
      " [ 1.31224304e+00 -1.38407669e+00]\n",
      " [ 6.21558599e-01 -1.38407669e+00]\n",
      " [-1.04488502e+00  1.37463962e+00]\n",
      " [ 2.14035647e-01  4.11398323e-01]\n",
      " [-2.68104185e-01 -3.07790827e-01]\n",
      " [-3.65680103e-01 -2.45595215e-01]\n",
      " [-4.23077702e-01  1.02882427e+00]\n",
      " [ 1.12857072e+00  6.69840751e-01]\n",
      " [-1.40648990e+00  1.37463962e+00]\n",
      " [-1.57135494e-01 -1.89447416e-01]\n",
      " [ 1.14196350e+00 -9.96759426e-01]\n",
      " [ 4.89544122e-01  2.05297746e-01]\n",
      " [-7.06239191e-01  3.15166549e-01]\n",
      " [ 8.62628515e-01  1.02894068e+00]\n",
      " [-4.76648795e-01  1.37463962e+00]\n",
      " [ 3.91968203e-01 -1.38407669e+00]\n",
      " [-1.09654286e+00 -3.49344909e-02]\n",
      " [ 7.55486330e-01  1.14095655e-01]\n",
      " [-1.93072130e+00  1.37463962e+00]\n",
      " [ 4.37886283e-01 -1.34920230e+00]\n",
      " [-4.30730715e-01 -1.33101654e+00]\n",
      " [ 6.19645346e-01  1.21084349e+00]\n",
      " [-2.31911172e+00 -4.73832331e-02]\n",
      " [-6.01010259e-01 -1.81807917e-01]\n",
      " [ 2.15948900e-01  1.15110170e+00]\n",
      " [-1.23812361e+00  1.26109479e+00]\n",
      " [ 1.66045514e+00 -1.38407669e+00]\n",
      " [-1.95942010e+00 -7.82299506e-02]\n",
      " [-2.68104185e-01  2.15177653e-01]\n",
      " [-1.56528992e+00 -3.94883930e-01]\n",
      " [-4.93868074e-01 -9.71591968e-01]\n",
      " [ 4.99110388e-01  1.07137044e+00]\n",
      " [ 1.22199488e-01  3.12613271e-01]\n",
      " [ 3.69009164e-01 -1.96226414e-01]\n",
      " [ 5.52356228e-02  1.37463962e+00]\n",
      " [ 2.46235700e-02  1.37463962e+00]\n",
      " [ 4.51279056e-01  1.07903356e+00]\n",
      " [ 2.10050340e+00  9.25803561e-01]\n",
      " [ 5.58421241e-01 -1.06835561e+00]\n",
      " [ 2.14035647e-01  4.47544760e-01]\n",
      " [-7.10390950e-02 -8.13635769e-01]\n",
      " [-1.17307300e+00  5.68739667e-01]\n",
      " [-6.25882552e-01 -4.67990507e-01]\n",
      " [-5.91443993e-01 -6.25249985e-01]\n",
      " [ 1.05778035e+00  1.08545867e+00]\n",
      " [ 8.68368275e-01 -5.28991032e-01]\n",
      " [ 9.20026114e-01  8.61985750e-01]\n",
      " [-1.20783681e-01  1.11950454e+00]\n",
      " [ 1.10178518e+00  4.45172568e-01]\n",
      " [ 2.40821193e-01 -1.38407669e+00]\n",
      " [ 5.23982681e-01  3.92460504e-01]\n",
      " [-3.63766850e-01 -2.19978532e-01]\n",
      " [ 4.93370628e-01  1.18782633e+00]\n",
      " [ 7.40429027e-03  1.37463962e+00]\n",
      " [ 3.93881457e-01  1.37463962e+00]\n",
      " [ 7.24874278e-01  1.37463962e+00]\n",
      " [-1.41222966e+00  1.37463962e+00]\n",
      " [-4.88128314e-01 -2.10627498e-01]\n",
      " [ 2.77173006e-01 -9.40668435e-01]\n",
      " [ 8.98980328e-01 -1.37030627e+00]\n",
      " [ 2.31254926e-01 -1.38407669e+00]\n",
      " [ 1.06543336e+00  1.37463962e+00]\n",
      " [-3.46872823e-02 -8.62777264e-01]\n",
      " [ 8.60715262e-01 -4.61493156e-01]\n",
      " [-8.93738014e-01  1.02016045e+00]\n",
      " [-4.93868074e-01  4.75701924e-01]\n",
      " [ 8.07144170e-01  8.62291108e-01]\n",
      " [ 3.02045298e-01  1.37463962e+00]\n",
      " [-1.77574779e+00 -2.08801113e-01]\n",
      " [ 9.86989980e-01 -3.65508073e-01]\n",
      " [-2.44347319e+00 -1.24290050e+00]\n",
      " [-4.80800554e-02  1.37463962e+00]\n",
      " [-2.54870212e+00 -9.33525582e-01]\n",
      " [-6.72125884e-02  9.21358044e-03]\n",
      " [ 5.71488761e-02 -1.50673363e-01]\n",
      " [ 1.19362134e+00 -1.35751983e+00]\n",
      " [-7.44504256e-01  1.34543634e+00]\n",
      " [-6.79453644e-01  3.07821023e-01]\n",
      " [-1.60738149e+00  9.17596259e-01]\n",
      " [ 1.67958767e+00  1.37463962e+00]\n",
      " [-1.66860560e+00 -1.32942019e+00]\n",
      " [ 1.50165512e+00 -1.38407669e+00]\n",
      " [ 9.50638167e-01 -8.40108897e-01]\n",
      " [ 6.86609212e-01 -1.38407669e+00]\n",
      " [ 1.05586710e+00  2.44196133e-01]\n",
      " [-2.71930691e-01 -9.46140933e-01]\n",
      " [-2.02638397e+00  9.07528201e-01]\n",
      " [ 7.42093557e-01 -8.71175931e-01]\n",
      " [ 3.09698312e-01 -2.67408273e-01]\n",
      " [ 1.36007437e+00  1.04188041e+00]\n",
      " [-3.90552396e-01 -1.34780074e+00]\n",
      " [-1.64788507e-01  9.61295423e-01]\n",
      " [ 1.93787687e+00  4.62908286e-01]\n",
      " [-3.71419863e-01 -1.38407669e+00]\n",
      " [ 1.02716830e+00 -2.45665164e-01]\n",
      " [ 2.80999512e-01 -1.38407669e+00]\n",
      " [ 1.48985034e-01 -8.51615940e-01]\n",
      " [-3.75246370e-01  1.37463962e+00]\n",
      " [-7.27284977e-01 -9.31141990e-01]\n",
      " [-1.25534289e+00 -2.85538311e-02]\n",
      " [-1.13098142e+00 -1.38407669e+00]\n",
      " [ 1.98953471e+00  1.14666165e+00]\n",
      " [ 1.04630083e+00  7.26336577e-01]\n",
      " [-8.51646441e-01 -1.38407669e+00]\n",
      " [ 6.19645346e-01  1.22392029e+00]\n",
      " [ 1.12857072e+00  1.21378279e+00]\n",
      " [ 9.86989980e-01 -1.27347568e+00]\n",
      " [-1.36057182e+00 -1.21584551e+00]\n",
      " [-1.50406582e+00 -8.67372201e-01]\n",
      " [ 1.75229130e+00  8.84574518e-02]\n",
      " [-7.57897030e-01  1.37463962e+00]\n",
      " [ 1.31765755e-01  8.12549504e-01]\n",
      " [ 2.06989135e+00 -8.45127874e-01]\n",
      " [-2.54711412e-01  1.37463962e+00]\n",
      " [-1.97089962e+00 -1.17317826e+00]\n",
      " [-7.86595829e-01 -1.38407669e+00]\n",
      " [ 7.03828491e-01 -3.07379903e-01]\n",
      " [ 1.06893462e-01  3.37674814e-01]\n",
      " [-6.52993351e-02 -1.38407669e+00]\n",
      " [ 9.98469499e-01 -8.38704762e-01]\n",
      " [-1.22473083e+00 -1.38407669e+00]\n",
      " [-3.23588531e-01  1.11162907e+00]\n",
      " [-5.16827114e-01 -2.82684179e-01]\n",
      " [ 9.92729740e-01  1.37463962e+00]\n",
      " [-7.29523483e-02 -8.25706192e-01]\n",
      " [ 5.02936895e-01 -7.82331330e-01]\n",
      " [ 1.73698527e+00  1.34183147e+00]\n",
      " [-1.13863444e+00 -1.38407669e+00]\n",
      " [ 1.04630083e+00 -5.70179779e-01]\n",
      " [ 9.06633341e-01  4.19738145e-01]\n",
      " [-7.21545217e-01 -2.21467399e-01]\n",
      " [-1.28021518e+00 -1.38407669e+00]\n",
      " [ 3.80488684e-01 -1.25198650e+00]\n",
      " [ 1.46721656e+00  1.01284479e+00]\n",
      " [ 3.88141697e-01 -1.38407669e+00]\n",
      " [ 3.44136871e-01 -1.14643153e-01]\n",
      " [-1.16159348e+00  5.51735815e-01]\n",
      " [-1.34143929e+00 -1.28284035e+00]\n",
      " [ 5.85206787e-01  1.37463962e+00]\n",
      " [ 9.23852621e-01 -1.38407669e+00]\n",
      " [-4.80475301e-01  5.87477852e-01]\n",
      " [-6.62234365e-01  7.97286029e-01]\n",
      " [-7.78942816e-01 -1.03033736e-01]\n",
      " [ 6.71303185e-01 -1.38407669e+00]\n",
      " [-1.64788507e-01 -7.45579002e-02]\n",
      " [-2.64627804e+00 -1.38407669e+00]\n",
      " [-2.45145145e-01  1.37463962e+00]\n",
      " [ 4.83804362e-01  9.59086732e-02]\n",
      " [-4.65169275e-01 -1.09036211e+00]\n",
      " [-1.65329957e+00  5.92546047e-01]\n",
      " [ 2.62473480e+00  1.37463962e+00]\n",
      " [-1.10419588e+00 -1.09773299e-01]\n",
      " [ 7.34440544e-01  6.95965749e-01]\n",
      " [ 3.99621217e-01 -5.12954656e-01]\n",
      " [-1.99194541e+00 -5.57490010e-01]\n",
      " [-5.37872900e-01 -4.96257814e-01]\n",
      " [ 4.79977855e-01  8.82367792e-01]\n",
      " [-4.76648795e-01 -9.15201759e-01]\n",
      " [ 1.17066230e+00 -1.38407669e+00]\n",
      " [-5.76463219e-02 -8.20790748e-01]\n",
      " [-1.58059595e+00 -1.38407669e+00]\n",
      " [-7.38764497e-01 -8.54280525e-01]\n",
      " [-7.48330763e-01  9.52933661e-01]\n",
      " [ 4.85717615e-01 -3.47848391e-01]\n",
      " [-7.13892204e-01  6.23442528e-01]\n",
      " [-7.23458470e-01 -1.38407669e+00]\n",
      " [ 3.34570605e-01 -1.38407669e+00]\n",
      " [-1.77574779e+00  8.33775228e-01]\n",
      " [ 1.71944074e-01 -2.36503800e-01]\n",
      " [ 5.29722441e-01  3.31476040e-03]\n",
      " [-2.16197623e-03  1.37463962e+00]\n",
      " [-2.09143458e+00 -1.15787535e+00]\n",
      " [ 8.85587555e-01 -1.38407669e+00]\n",
      " [ 4.18753750e-01  8.21703509e-01]\n",
      " [ 6.98088731e-01  2.64794720e-01]\n",
      " [ 1.28928400e+00 -6.79120543e-01]\n",
      " [ 1.01186227e+00 -8.02384642e-01]\n",
      " [-1.80253333e+00  1.37463962e+00]\n",
      " [ 3.69009164e-01  1.37463962e+00]\n",
      " [-4.74735541e-01  1.37463962e+00]\n",
      " [ 4.83804362e-01 -3.88267154e-01]\n",
      " [-1.07358382e+00 -4.91047275e-01]\n",
      " [-1.30700073e+00  1.79968467e-01]\n",
      " [-2.17370447e+00  1.37463962e+00]\n",
      " [-8.95651267e-01 -1.35967961e-01]\n",
      " [ 5.75640520e-01 -6.77971783e-01]\n",
      " [ 1.88430578e+00  1.37463962e+00]\n",
      " [ 2.03927929e+00  6.30168886e-01]\n",
      " [ 6.86609212e-01  1.04217786e+00]\n",
      " [ 4.94958629e-02  5.10324382e-01]\n",
      " [ 3.67095911e-01  3.57662555e-01]\n",
      " [-5.45525913e-01  6.51123900e-01]\n",
      " [ 6.84695958e-01 -9.03655180e-01]\n",
      " [-2.48971652e-01 -1.83850768e-01]\n",
      " [-5.34046394e-01  1.37463962e+00]\n",
      " [ 7.43681558e-02  1.21550987e+00]\n",
      " [-2.08760807e+00 -3.32501486e-01]\n",
      " [ 1.04438758e+00 -1.38407669e+00]\n",
      " [-1.13289468e+00 -1.38407669e+00]\n",
      " [-3.52287330e-01 -1.25878297e+00]\n",
      " [ 1.40790571e+00  5.76091318e-01]\n",
      " [ 7.74618863e-01  1.04871338e+00]\n",
      " [-1.66286584e+00  2.66692913e-01]\n",
      " [ 6.94262225e-01 -1.38407669e+00]\n",
      " [-9.66441639e-01  1.12287393e+00]\n",
      " [-8.22947642e-01 -9.83387606e-01]\n",
      " [-6.23969299e-01  1.37463962e+00]\n",
      " [-1.06019105e+00  1.40732922e-01]\n",
      " [-1.19411878e+00  1.37463962e+00]\n",
      " [-5.95595752e-02 -1.81811676e-01]\n",
      " [-8.15294629e-01 -1.38407669e+00]\n",
      " [-9.64528386e-01  1.37463962e+00]\n",
      " [ 7.38267051e-01 -1.38407669e+00]\n",
      " [-1.20942481e+00  7.35488819e-01]\n",
      " [ 1.20701411e+00  5.30376081e-01]\n",
      " [-4.38383729e-01  8.74294354e-01]\n",
      " [-1.41829467e-01  1.15433105e+00]\n",
      " [ 1.28163099e+00 -1.89272407e-01]\n",
      " [-4.15424689e-01 -1.38407669e+00]\n",
      " [-9.59113879e-02  9.74803179e-01]\n",
      " [ 1.41332021e-01 -2.90647009e-01]\n",
      " [-1.65712608e+00  1.37463962e+00]\n",
      " [-3.71419863e-01  1.37463962e+00]\n",
      " [ 3.93881457e-01  1.37463962e+00]\n",
      " [-1.72982971e+00  4.22572588e-01]\n",
      " [ 6.84695958e-01  1.37463962e+00]\n",
      " [ 3.99621217e-01 -1.13661494e+00]\n",
      " [ 7.28700784e-01  9.92617468e-01]\n",
      " [-3.15935517e-01 -1.38407669e+00]\n",
      " [ 5.04850148e-01 -6.88587108e-01]\n",
      " [-2.07230205e+00 -1.28000342e+00]\n",
      " [-7.82769322e-01 -7.91487870e-01]\n",
      " [-7.00499431e-01 -1.38407669e+00]\n",
      " [-8.44318681e-02  1.04958950e+00]\n",
      " [-1.16733324e+00 -2.03684567e-01]\n",
      " [-3.85137889e-02  1.37463962e+00]\n",
      " [-1.28021518e+00 -9.55004039e-01]\n",
      " [-4.99933087e-02  2.39870603e-01]\n",
      " [-1.13130668e-01 -1.38407669e+00]\n",
      " [ 9.39158647e-01 -1.38407669e+00]\n",
      " [ 9.12373101e-01 -6.04712848e-01]\n",
      " [ 2.07970634e-02 -1.26096938e-01]\n",
      " [ 1.83838770e+00 -1.38407669e+00]\n",
      " [-7.88509082e-01  1.37463962e+00]\n",
      " [-9.39981346e-02 -1.14186076e+00]\n",
      " [ 3.28830845e-01  1.37463962e+00]\n",
      " [ 3.00132045e-01  4.65994719e-01]\n",
      " [ 4.72324842e-01 -1.38407669e+00]\n",
      " [ 3.76662177e-01  1.25855012e+00]\n",
      " [ 6.34951373e-01 -1.02805453e+00]\n",
      " [ 2.96305539e-01 -1.38407669e+00]\n",
      " [ 1.43245275e-01  1.37463962e+00]\n",
      " [-2.31752372e-01 -1.38407669e+00]\n",
      " [ 1.00803577e+00  1.03823141e-01]\n",
      " [-2.33665625e-01 -1.38407669e+00]\n",
      " [ 2.17862153e-01 -1.38407669e+00]\n",
      " [-1.09304161e-01  8.28304515e-01]\n",
      " [-2.27925866e-01  8.17010274e-01]\n",
      " [ 7.19134518e-01 -2.50518435e-01]\n",
      " [-1.68199837e+00  4.35994594e-01]\n",
      " [-8.82583747e-02 -9.47907353e-01]\n",
      " [-5.55092180e-01 -1.38407669e+00]\n",
      " [-7.73203056e-01  1.37463962e+00]\n",
      " [ 5.71488761e-02  4.86161722e-01]\n",
      " [-7.50244016e-01  1.37463962e+00]\n",
      " [ 9.15874355e-02  1.37463962e+00]\n",
      " [-1.41605616e+00  1.37463962e+00]\n",
      " [-8.09554869e-01 -1.91426312e-01]\n",
      " [ 8.47322489e-01 -4.29335863e-01]\n",
      " [-2.37492132e-01 -3.52143302e-02]\n",
      " [ 2.67606739e-01  7.58933650e-01]\n",
      " [-1.08888985e+00 -4.98369727e-01]\n",
      " [-1.01044647e+00 -1.38407669e+00]\n",
      " [-1.85834293e-01  1.37463962e+00]\n",
      " [ 8.56888755e-01  2.50294313e-03]\n",
      " [-1.87715021e+00 -1.38407669e+00]\n",
      " [ 5.08676655e-01 -2.10671816e-01]\n",
      " [-1.08315009e+00 -1.38407669e+00]\n",
      " [-5.89530739e-01  1.37463962e+00]\n",
      " [ 3.34570605e-01  1.37463962e+00]\n",
      " [-4.65169275e-01 -1.38407669e+00]\n",
      " [ 8.30103209e-01 -1.38407669e+00]\n",
      " [ 1.44999728e+00  1.06557034e+00]\n",
      " [-2.04966826e-01  3.84441127e-02]\n",
      " [-1.72441520e-01  6.98237936e-01]\n",
      " [-1.67051885e+00 -4.26641514e-02]\n",
      " [ 2.46560953e-01 -1.33467324e+00]\n",
      " [ 6.31124866e-01 -7.47938442e-01]\n",
      " [-3.77159623e-01  1.37463962e+00]\n",
      " [ 6.52170652e-01  1.31518508e-01]\n",
      " [ 1.44425752e+00  7.92046357e-01]\n",
      " [-5.09174101e-01 -4.02935554e-01]\n",
      " [-1.39916214e-01 -1.38407669e+00]\n",
      " [-2.70017438e-01 -5.33023735e-01]\n",
      " [ 6.63650172e-01  1.37463962e+00]\n",
      " [ 3.90054950e-01  5.61372030e-01]\n",
      " [-1.72791645e+00 -1.10121867e+00]\n",
      " [ 5.31635694e-01  6.32918998e-01]\n",
      " [-5.76463219e-02  4.17035166e-01]\n",
      " [-7.27284977e-01  6.01821043e-02]\n",
      " [ 1.37920691e+00 -1.77823593e-01]\n",
      " [ 1.01568878e+00  1.37463962e+00]\n",
      " [ 5.58421241e-01  8.42423888e-02]\n",
      " [-1.89628274e+00  4.32107215e-02]\n",
      " [ 6.57910412e-01  8.74440895e-01]\n",
      " [ 3.76662177e-01 -1.38407669e+00]\n",
      " [-9.20848813e-02  1.37463962e+00]\n",
      " [ 2.08295887e-01 -8.62014843e-01]\n",
      " [ 2.29341673e-01  8.17228797e-01]\n",
      " [ 4.11100736e-01  3.33299975e-01]\n",
      " [ 3.03633299e-02 -3.57546070e-01]\n",
      " [ 1.91076607e-01 -8.23852541e-01]\n",
      " [ 1.57435874e+00  1.30899615e+00]\n",
      " [-6.08663272e-01  4.54860996e-01]\n",
      " [-1.09304161e-01 -1.04135107e+00]\n",
      " [ 7.82271877e-01  7.25333478e-01]\n",
      " [ 9.00893581e-01 -1.18109458e+00]\n",
      " [ 2.25515166e-01  1.37463962e+00]\n",
      " [ 1.80394914e+00 -4.36056765e-01]\n",
      " [-1.77192128e+00 -2.36654447e-01]\n",
      " [-3.50374077e-01 -1.38407669e+00]\n",
      " [-7.69376549e-01 -1.06944822e+00]\n",
      " [ 1.00038275e+00 -1.38407669e+00]\n",
      " [-3.69506610e-01  5.39708202e-01]\n",
      " [ 2.44647699e-01  1.37463962e+00]\n",
      " [ 1.02525505e+00  2.70544579e-01]\n",
      " [-2.26012612e-01 -3.37251278e-01]\n",
      " [-7.77029563e-01  1.29940795e+00]\n",
      " [-2.64277678e-01 -1.04084808e+00]\n",
      " [ 2.03162628e+00  3.10108474e-01]\n",
      " [ 7.34440544e-01 -1.38407669e+00]\n",
      " [ 1.67576117e+00  4.07580864e-01]\n",
      " [-1.39916214e-01  5.66033996e-01]\n",
      " [ 8.72194782e-01  1.37463962e+00]\n",
      " [-3.19762024e-01 -1.38407669e+00]\n",
      " [-3.15935517e-01  8.00742336e-01]\n",
      " [ 8.12883929e-01  1.24783236e+00]\n",
      " [-1.93812559e-02  1.21729714e+00]]\n"
     ]
    }
   ],
   "source": [
    "# Vaš kôd ovdje\n",
    "grades_X_fixed_colinear = np.c_[grades_X_fixed, grades_X_fixed.T[1]]\n",
    "print(grades_X_fixed_colinear)\n",
    "print(grades_X_fixed)"
   ]
  },
  {
   "cell_type": "markdown",
   "metadata": {},
   "source": [
    "Ponovno, naučite na ovom skupu L2-regularizirani model regresije ($\\lambda = 0.01$)."
   ]
  },
  {
   "cell_type": "code",
   "execution_count": 35,
   "metadata": {},
   "outputs": [
    {
     "name": "stdout",
     "output_type": "stream",
     "text": [
      "[8.6255971e-17] [[0.81630364 0.07583957 0.07583957]]\n"
     ]
    }
   ],
   "source": [
    "# Vaš kôd ovdje\n",
    "model = Ridge(alpha=0.01)\n",
    "model.fit(grades_X_fixed_colinear, grades_y_fixed)\n",
    "print(model.intercept_, model.coef_)"
   ]
  },
  {
   "cell_type": "markdown",
   "metadata": {},
   "source": [
    "**Q:** Usporedite iznose težina s onima koje ste dobili u zadatku *7b*. Što se dogodilo?"
   ]
  },
  {
   "cell_type": "markdown",
   "metadata": {},
   "source": [
    "**b)** Slučajno uzorkujte 50% elemenata iz skupa `grades_X_fixed_colinear` i naučite dva modela L2-regularizirane regresije, jedan s $\\lambda=0.01$ i jedan s $\\lambda=1000$). Ponovite ovaj pokus 10 puta (svaki put s drugim podskupom od 50% elemenata).  Za svaki model, ispišite dobiveni vektor težina u svih 10 ponavljanja te ispišite standardnu devijaciju vrijednosti svake od težina (ukupno šest standardnih devijacija, svaka dobivena nad 10 vrijednosti)."
   ]
  },
  {
   "cell_type": "code",
   "execution_count": 36,
   "metadata": {},
   "outputs": [
    {
     "name": "stdout",
     "output_type": "stream",
     "text": [
      "[[0.78442614 0.05798842 0.05798842]]\n",
      "[[0.17042548 0.05277113 0.05277113]]\n",
      "[[0.84185496 0.10853086 0.10853086]]\n",
      "[[0.16606135 0.03682682 0.03682682]]\n",
      "[[0.80028869 0.09258294 0.09258294]]\n",
      "[[0.16016355 0.02992725 0.02992725]]\n",
      "[[0.84406406 0.0516362  0.0516362 ]]\n",
      "[[0.17531914 0.02508137 0.02508137]]\n",
      "[[0.78971539 0.07886073 0.07886073]]\n",
      "[[0.16155553 0.03428091 0.03428091]]\n",
      "[[0.80237957 0.06556442 0.06556442]]\n",
      "[[0.16091022 0.02379852 0.02379852]]\n",
      "[[0.84263554 0.06199831 0.06199831]]\n",
      "[[0.16897212 0.02447929 0.02447929]]\n",
      "[[0.84846728 0.07953089 0.07953089]]\n",
      "[[0.15569452 0.04243913 0.04243913]]\n",
      "[[0.807097   0.08006777 0.08006777]]\n",
      "[[0.17085732 0.03982161 0.03982161]]\n",
      "[[0.90488057 0.06472009 0.06472009]]\n",
      "[[0.15395101 0.01845126 0.01845126]]\n",
      "Std. deviation: lambda=0.01, weight1:  0.03492743602939158\n",
      "Std. deviation: lambda=0.01, weight2:  0.016390085868310072\n",
      "Std. deviation: lambda=0.01, weight3:  0.016390085868851406\n",
      "Std. deviation: lambda=1000, weight1:  0.006663922112307718\n",
      "Std. deviation: lambda=1000, weight2:  0.009916884294471138\n",
      "Std. deviation: lambda=1000, weight3:  0.009916884294471138\n"
     ]
    }
   ],
   "source": [
    "# Vaš kôd ovdje\n",
    "n = len(grades_X_fixed_colinear) // 2\n",
    "\n",
    "weights_1_1 = []\n",
    "weights_1_2 = []\n",
    "weights_1_3 = []\n",
    "weights_2_1 = []\n",
    "weights_2_2 = []\n",
    "weights_2_3 = []\n",
    "\n",
    "for i in range(10):\n",
    "    indices = np.random.choice(len(grades_X_fixed_colinear), size=n)\n",
    "    half_grades_X = grades_X_fixed_colinear[indices]\n",
    "    half_grades_y = grades_y_fixed[indices]\n",
    "    \n",
    "    model1 = Ridge(alpha=0.01)\n",
    "    model1.fit(half_grades_X, half_grades_y)\n",
    "    print(model1.coef_)\n",
    "    weights_1_1.append(model1.coef_[0][0])\n",
    "    weights_1_2.append(model1.coef_[0][1])\n",
    "    weights_1_3.append(model1.coef_[0][2])\n",
    "    \n",
    "    model2 = Ridge(alpha=1000)\n",
    "    model2.fit(half_grades_X, half_grades_y)\n",
    "    print(model2.coef_)\n",
    "    weights_2_1.append(model2.coef_[0][0])\n",
    "    weights_2_2.append(model2.coef_[0][1])\n",
    "    weights_2_3.append(model2.coef_[0][2])\n",
    "\n",
    "print(\"Std. deviation: lambda=0.01, weight1: \", np.std(weights_1_1))\n",
    "print(\"Std. deviation: lambda=0.01, weight2: \", np.std(weights_1_2))\n",
    "print(\"Std. deviation: lambda=0.01, weight3: \", np.std(weights_1_3))\n",
    "print(\"Std. deviation: lambda=1000, weight1: \", np.std(weights_2_1))\n",
    "print(\"Std. deviation: lambda=1000, weight2: \", np.std(weights_2_2))\n",
    "print(\"Std. deviation: lambda=1000, weight3: \", np.std(weights_2_3))\n"
   ]
  },
  {
   "cell_type": "markdown",
   "metadata": {},
   "source": [
    "**Q:** Kako regularizacija utječe na stabilnost težina?  \n",
    "**Q:** Jesu li koeficijenti jednakih magnituda kao u prethodnom pokusu? Objasnite zašto."
   ]
  },
  {
   "cell_type": "markdown",
   "metadata": {},
   "source": [
    "**c)** Koristeći [`numpy.linalg.cond`](https://docs.scipy.org/doc/numpy-1.13.0/reference/generated/numpy.linalg.cond.html) izračunajte kondicijski broj matrice $\\mathbf{\\Phi}^\\intercal\\mathbf{\\Phi}+\\lambda\\mathbf{I}$, gdje je $\\mathbf{\\Phi}$ matrica dizajna (`grades_X_fixed_colinear`). Ponovite i za $\\lambda=0.01$ i za $\\lambda=10$.\n"
   ]
  },
  {
   "cell_type": "code",
   "execution_count": 37,
   "metadata": {},
   "outputs": [
    {
     "name": "stdout",
     "output_type": "stream",
     "text": [
      "100542.86653456726 101.541866534993\n"
     ]
    }
   ],
   "source": [
    "# Vaš kôd ovdje\n",
    "from numpy import linalg\n",
    "\n",
    "gram = grades_X_fixed_colinear.T.dot(grades_X_fixed_colinear)\n",
    "shape = gram.shape[0]\n",
    "\n",
    "mat1 = gram + 0.01*np.eye(shape)\n",
    "mat2 = gram + 10*np.eye(shape)\n",
    "\n",
    "cond1 = linalg.cond(mat1)\n",
    "cond2 = linalg.cond(mat2)\n",
    "\n",
    "print(cond1, cond2)"
   ]
  },
  {
   "cell_type": "markdown",
   "metadata": {},
   "source": [
    "**Q:** Kako regularizacija utječe na kondicijski broj matrice $\\mathbf{\\Phi}^\\intercal\\mathbf{\\Phi}+\\lambda\\mathbf{I}$?  "
   ]
  }
 ],
 "metadata": {
  "anaconda-cloud": {},
  "kernelspec": {
   "display_name": "Python 3",
   "language": "python",
   "name": "python3"
  },
  "language_info": {
   "codemirror_mode": {
    "name": "ipython",
    "version": 3
   },
   "file_extension": ".py",
   "mimetype": "text/x-python",
   "name": "python",
   "nbconvert_exporter": "python",
   "pygments_lexer": "ipython3",
   "version": "3.7.1"
  }
 },
 "nbformat": 4,
 "nbformat_minor": 1
}
